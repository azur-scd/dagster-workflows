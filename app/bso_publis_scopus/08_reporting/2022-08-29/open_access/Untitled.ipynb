{
 "cells": [
  {
   "cell_type": "code",
   "execution_count": 1,
   "id": "7e8878c8",
   "metadata": {},
   "outputs": [],
   "source": [
    "import pandas as pd\n",
    "import bamboolib as bam\n",
    "import sqlite3\n",
    "from sqlite3 import Error\n",
    "import sqlalchemy as sqla\n",
    "from thefuzz import fuzz\n",
    "from thefuzz import process"
   ]
  },
  {
   "cell_type": "markdown",
   "id": "459207bc",
   "metadata": {},
   "source": [
    "## Thefuzz"
   ]
  },
  {
   "cell_type": "code",
   "execution_count": 5,
   "id": "9dcdb19c",
   "metadata": {},
   "outputs": [
    {
     "data": {
      "text/plain": [
       "60"
      ]
     },
     "execution_count": 5,
     "metadata": {},
     "output_type": "execute_result"
    }
   ],
   "source": [
    "process.extractOne(\"uns\",['uns cnrs observatoire cote azur'])[1]"
   ]
  },
  {
   "cell_type": "code",
   "execution_count": 14,
   "id": "4fd2cdf2",
   "metadata": {},
   "outputs": [
    {
     "data": {
      "text/plain": [
       "95"
      ]
     },
     "execution_count": 14,
     "metadata": {},
     "output_type": "execute_result"
    }
   ],
   "source": [
    "fuzz.partial_ratio(\"universite cote azur\", ['departement enseignement recherche medecine', 'faculte medecine', 'universite sophia antipolis'])"
   ]
  },
  {
   "cell_type": "code",
   "execution_count": 47,
   "id": "b83e9018",
   "metadata": {},
   "outputs": [
    {
     "data": {
      "text/plain": [
       "['artificial intelligence institute',\n",
       " 'skema business school cote azur university']"
      ]
     },
     "execution_count": 47,
     "metadata": {},
     "output_type": "execute_result"
    }
   ],
   "source": [
    "l = ['artificial intelligence institute', \"skema business school cote azur university\"]\n",
    "[s.replace(\"'\",\"\") for s in l]"
   ]
  },
  {
   "cell_type": "code",
   "execution_count": 48,
   "id": "3e813c2c",
   "metadata": {},
   "outputs": [
    {
     "data": {
      "text/plain": [
       "90"
      ]
     },
     "execution_count": 48,
     "metadata": {},
     "output_type": "execute_result"
    }
   ],
   "source": [
    "max(process.extractOne(\"universite cote azur\",l)[1],\n",
    "               process.extractOne(\"university cote azur\",l)[1], \n",
    "               process.extractOne(\"universite azur\",l)[1],\n",
    "               process.extractOne(\"cote azur university\",l)[1], \n",
    "               fuzz.partial_ratio(\"univ cote azur\",l),\n",
    "               process.extractOne(\"universitcrossed sign cote azur\",l)[1],\n",
    "               process.extractOne(\"universitcrossed cote azur\",l)[1],\n",
    "               process.extractOne(\"universit x00e9 c x00f4 te x2019 azur\",l)[1])"
   ]
  },
  {
   "cell_type": "code",
   "execution_count": 110,
   "id": "54d9610d",
   "metadata": {},
   "outputs": [
    {
     "data": {
      "text/plain": [
       "95"
      ]
     },
     "execution_count": 110,
     "metadata": {},
     "output_type": "execute_result"
    }
   ],
   "source": [
    "max(process.extractOne(\"universite nice\",l)[1],\n",
    "    process.extractOne(\"universite nice sophia\",l)[1],\n",
    "    process.extractOne(\"nice sophia antipolis\",l)[1],\n",
    "    process.extractOne(\"universite sophia antipolis\",l)[1],\n",
    "    process.extractOne(\"university nice\",l)[1],\n",
    "    process.extractOne(\"university nice sophia\",l)[1],\n",
    "    process.extractOne(\"university sophia antipolis\",l)[1],\n",
    "    process.extractOne(\"sophia antipolis university\",l)[1],\n",
    "    process.extractOne(\"antipolis university\",l)[1],\n",
    "    process.extractOne(\"nice university\",l)[1],\n",
    "    process.extractOne(\"univ nice\",l)[1],\n",
    "    fuzz.partial_ratio(\"univ nice\",l),\n",
    "    fuzz.partial_ratio(\"uns\",l))"
   ]
  },
  {
   "cell_type": "code",
   "execution_count": 3,
   "id": "cd446046",
   "metadata": {},
   "outputs": [
    {
     "data": {
      "text/plain": [
       "('university nice sophia antipolis', 90)"
      ]
     },
     "execution_count": 3,
     "metadata": {},
     "output_type": "execute_result"
    }
   ],
   "source": [
    "process.extractOne(\"university nice\",['university nice sophia antipolis'])"
   ]
  },
  {
   "cell_type": "markdown",
   "id": "d2915ca6",
   "metadata": {},
   "source": [
    "## Sqlite3"
   ]
  },
  {
   "cell_type": "code",
   "execution_count": 18,
   "id": "472ecf27",
   "metadata": {},
   "outputs": [
    {
     "name": "stdout",
     "output_type": "stream",
     "text": [
      "2.6.0\n"
     ]
    }
   ],
   "source": [
    "def create_connection(db_file):\n",
    "    \"\"\" create a database connection to a SQLite database \"\"\"\n",
    "    conn = None\n",
    "    try:\n",
    "        conn = sqlite3.connect(db_file)\n",
    "        print(sqlite3.version)\n",
    "    except Error as e:\n",
    "        print(e)\n",
    "    finally:\n",
    "        if conn:\n",
    "            conn.close()\n",
    "\n",
    "create_connection(r\"../../../publications.db\")"
   ]
  },
  {
   "cell_type": "code",
   "execution_count": 2,
   "id": "73acc25e",
   "metadata": {},
   "outputs": [],
   "source": [
    "conn = sqlite3.connect(r\"../../../publications.db\")\n",
    "cur = conn.cursor()\n",
    "#cur.execute(\"CREATE TABLE IF NOT EXISTS bso_publis_all_by_affiliation_20201130 ('source_id', 'doi', 'scopus_title', 'year', 'aff_scopus_id','aff_source_text', 'author_id', 'author_name', 'corresponding_author','creator_author', 'all_authors', 'affiliation-name', 'aff_internal_id','aff_parent_id', 'corresponding')\")"
   ]
  },
  {
   "cell_type": "code",
   "execution_count": 56,
   "id": "628a3392",
   "metadata": {},
   "outputs": [],
   "source": [
    "df2.to_sql(\"bso_publis_all_by_affiliation_20201130\", conn, if_exists='append', index=False)"
   ]
  },
  {
   "cell_type": "code",
   "execution_count": 6,
   "id": "2d1402f4",
   "metadata": {},
   "outputs": [
    {
     "ename": "OperationalError",
     "evalue": "no such column: document_count",
     "output_type": "error",
     "traceback": [
      "\u001b[0;31m---------------------------------------------------------------------------\u001b[0m",
      "\u001b[0;31mOperationalError\u001b[0m                          Traceback (most recent call last)",
      "\u001b[0;32m/tmp/ipykernel_23/3650048588.py\u001b[0m in \u001b[0;36m<module>\u001b[0;34m\u001b[0m\n\u001b[0;32m----> 1\u001b[0;31m \u001b[0mcur\u001b[0m\u001b[0;34m.\u001b[0m\u001b[0mexecute\u001b[0m\u001b[0;34m(\u001b[0m\u001b[0;34m\"select id,affiliation_name,document_count from referentiel_structures_20220829 where parent_id != 0\"\u001b[0m\u001b[0;34m)\u001b[0m\u001b[0;34m\u001b[0m\u001b[0;34m\u001b[0m\u001b[0m\n\u001b[0m\u001b[1;32m      2\u001b[0m \u001b[0mrows\u001b[0m \u001b[0;34m=\u001b[0m \u001b[0mcur\u001b[0m\u001b[0;34m.\u001b[0m\u001b[0mfetchall\u001b[0m\u001b[0;34m(\u001b[0m\u001b[0;34m)\u001b[0m\u001b[0;34m\u001b[0m\u001b[0;34m\u001b[0m\u001b[0m\n\u001b[1;32m      3\u001b[0m \u001b[0md\u001b[0m \u001b[0;34m=\u001b[0m \u001b[0mpd\u001b[0m\u001b[0;34m.\u001b[0m\u001b[0mDataFrame\u001b[0m\u001b[0;34m(\u001b[0m\u001b[0mrows\u001b[0m\u001b[0;34m)\u001b[0m\u001b[0;34m\u001b[0m\u001b[0;34m\u001b[0m\u001b[0m\n",
      "\u001b[0;31mOperationalError\u001b[0m: no such column: document_count"
     ]
    }
   ],
   "source": [
    "cur.execute(\"select id,affiliation_name,document_count from referentiel_structures_20220829 where parent_id != 0\")\n",
    "rows = cur.fetchall()\n",
    "d = pd.DataFrame(rows)"
   ]
  },
  {
   "cell_type": "code",
   "execution_count": 5,
   "id": "f5e054ea",
   "metadata": {},
   "outputs": [
    {
     "data": {
      "application/vnd.jupyter.widget-view+json": {
       "model_id": "f30ef18fe8a74388932a44a5c253852d"
      },
      "text/html": [
       "<div>\n",
       "<style scoped>\n",
       "    .dataframe tbody tr th:only-of-type {\n",
       "        vertical-align: middle;\n",
       "    }\n",
       "\n",
       "    .dataframe tbody tr th {\n",
       "        vertical-align: top;\n",
       "    }\n",
       "\n",
       "    .dataframe thead th {\n",
       "        text-align: right;\n",
       "    }\n",
       "</style>\n",
       "<table border=\"1\" class=\"dataframe\">\n",
       "  <thead>\n",
       "    <tr style=\"text-align: right;\">\n",
       "      <th></th>\n",
       "      <th>0</th>\n",
       "    </tr>\n",
       "  </thead>\n",
       "  <tbody>\n",
       "    <tr>\n",
       "      <th>0</th>\n",
       "      <td>10.1038/s41467-019-12568-w</td>\n",
       "    </tr>\n",
       "    <tr>\n",
       "      <th>1</th>\n",
       "      <td>10.1007/978-3-030-69480-7_9</td>\n",
       "    </tr>\n",
       "  </tbody>\n",
       "</table>\n",
       "</div>"
      ],
      "text/plain": [
       "                             0\n",
       "0   10.1038/s41467-019-12568-w\n",
       "1  10.1007/978-3-030-69480-7_9"
      ]
     },
     "metadata": {},
     "output_type": "display_data"
    }
   ],
   "source": [
    "d.columns = [str(column) for column in d.columns]\n",
    "d"
   ]
  },
  {
   "cell_type": "code",
   "execution_count": 34,
   "id": "61e402be",
   "metadata": {},
   "outputs": [],
   "source": [
    "df = pd.read_csv(\"publis_uniques_doi_oa_data_with_bsoclasses_complete.csv\", sep=',', encoding=\"utf-8\", usecols=[\"doi\", \"year\", \"genre\", \"is_oa_normalized\",\"oa_status_normalized\"], dtype={\"doi\": str, \"year\": str})"
   ]
  },
  {
   "cell_type": "markdown",
   "id": "0ccd9d33",
   "metadata": {},
   "source": [
    "## SQLAlchemy"
   ]
  },
  {
   "cell_type": "code",
   "execution_count": 2,
   "id": "893f6d3a",
   "metadata": {},
   "outputs": [],
   "source": [
    "dbEngine=sqla.create_engine('sqlite:////home/docker/app/bso_publis_scopus/09_db/publications.db')"
   ]
  },
  {
   "cell_type": "code",
   "execution_count": 8,
   "id": "5bd56f43",
   "metadata": {},
   "outputs": [],
   "source": [
    "PUBLIS_OBS_DATES = [\"20220829\",\"20210914\",\"20201130\"]\n",
    "def get_publis_dataset(publis_obs_date):\n",
    "    df = pd.read_sql(f'select doi, year, genre, is_oa_normalized, oa_status_normalized, oa_host_type_normalized from bso_publis_uniques_{publis_obs_date}',dbEngine)\n",
    "    return df\n",
    "def get_crosstab_percent(df, col1, col2):\n",
    "    c = (pd.crosstab(df[col1], df[col2], normalize='index')*100).round(1).reset_index()\n",
    "    return c"
   ]
  },
  {
   "cell_type": "code",
   "execution_count": null,
   "id": "4a9f6135",
   "metadata": {},
   "outputs": [],
   "source": [
    "comp_last_date = \"20220829\"\n",
    "comp_first_date = \"20201130\""
   ]
  },
  {
   "cell_type": "code",
   "execution_count": 9,
   "id": "088758b6",
   "metadata": {},
   "outputs": [
    {
     "data": {
      "application/vnd.jupyter.widget-view+json": {
       "model_id": "55d504190da549f59453ab037d5bfd7c"
      },
      "text/html": [
       "<div>\n",
       "<style scoped>\n",
       "    .dataframe tbody tr th:only-of-type {\n",
       "        vertical-align: middle;\n",
       "    }\n",
       "\n",
       "    .dataframe tbody tr th {\n",
       "        vertical-align: top;\n",
       "    }\n",
       "\n",
       "    .dataframe thead th {\n",
       "        text-align: right;\n",
       "    }\n",
       "</style>\n",
       "<table border=\"1\" class=\"dataframe\">\n",
       "  <thead>\n",
       "    <tr style=\"text-align: right;\">\n",
       "      <th>is_oa_normalized</th>\n",
       "      <th>year</th>\n",
       "      <th>Accès fermé</th>\n",
       "      <th>Accès ouvert</th>\n",
       "      <th>year_obs</th>\n",
       "    </tr>\n",
       "  </thead>\n",
       "  <tbody>\n",
       "    <tr>\n",
       "      <th>0</th>\n",
       "      <td>2016</td>\n",
       "      <td>39.1</td>\n",
       "      <td>60.9</td>\n",
       "      <td>2022</td>\n",
       "    </tr>\n",
       "    <tr>\n",
       "      <th>1</th>\n",
       "      <td>2017</td>\n",
       "      <td>35.4</td>\n",
       "      <td>64.6</td>\n",
       "      <td>2022</td>\n",
       "    </tr>\n",
       "    <tr>\n",
       "      <th>2</th>\n",
       "      <td>2018</td>\n",
       "      <td>34.6</td>\n",
       "      <td>65.4</td>\n",
       "      <td>2022</td>\n",
       "    </tr>\n",
       "    <tr>\n",
       "      <th>3</th>\n",
       "      <td>2019</td>\n",
       "      <td>29.7</td>\n",
       "      <td>70.3</td>\n",
       "      <td>2022</td>\n",
       "    </tr>\n",
       "    <tr>\n",
       "      <th>4</th>\n",
       "      <td>2020</td>\n",
       "      <td>27.3</td>\n",
       "      <td>72.7</td>\n",
       "      <td>2022</td>\n",
       "    </tr>\n",
       "    <tr>\n",
       "      <th>5</th>\n",
       "      <td>2021</td>\n",
       "      <td>27.2</td>\n",
       "      <td>72.8</td>\n",
       "      <td>2022</td>\n",
       "    </tr>\n",
       "    <tr>\n",
       "      <th>0</th>\n",
       "      <td>2016</td>\n",
       "      <td>39.3</td>\n",
       "      <td>60.7</td>\n",
       "      <td>2021</td>\n",
       "    </tr>\n",
       "    <tr>\n",
       "      <th>1</th>\n",
       "      <td>2017</td>\n",
       "      <td>35.9</td>\n",
       "      <td>64.1</td>\n",
       "      <td>2021</td>\n",
       "    </tr>\n",
       "    <tr>\n",
       "      <th>2</th>\n",
       "      <td>2018</td>\n",
       "      <td>35.1</td>\n",
       "      <td>64.9</td>\n",
       "      <td>2021</td>\n",
       "    </tr>\n",
       "    <tr>\n",
       "      <th>3</th>\n",
       "      <td>2019</td>\n",
       "      <td>32.4</td>\n",
       "      <td>67.6</td>\n",
       "      <td>2021</td>\n",
       "    </tr>\n",
       "    <tr>\n",
       "      <th>4</th>\n",
       "      <td>2020</td>\n",
       "      <td>31.3</td>\n",
       "      <td>68.7</td>\n",
       "      <td>2021</td>\n",
       "    </tr>\n",
       "    <tr>\n",
       "      <th>5</th>\n",
       "      <td>2021</td>\n",
       "      <td>38.8</td>\n",
       "      <td>61.2</td>\n",
       "      <td>2021</td>\n",
       "    </tr>\n",
       "    <tr>\n",
       "      <th>0</th>\n",
       "      <td>2016</td>\n",
       "      <td>38.8</td>\n",
       "      <td>61.2</td>\n",
       "      <td>2020</td>\n",
       "    </tr>\n",
       "    <tr>\n",
       "      <th>1</th>\n",
       "      <td>2017</td>\n",
       "      <td>35.8</td>\n",
       "      <td>64.2</td>\n",
       "      <td>2020</td>\n",
       "    </tr>\n",
       "    <tr>\n",
       "      <th>2</th>\n",
       "      <td>2018</td>\n",
       "      <td>35.8</td>\n",
       "      <td>64.2</td>\n",
       "      <td>2020</td>\n",
       "    </tr>\n",
       "    <tr>\n",
       "      <th>3</th>\n",
       "      <td>2019</td>\n",
       "      <td>36.9</td>\n",
       "      <td>63.1</td>\n",
       "      <td>2020</td>\n",
       "    </tr>\n",
       "    <tr>\n",
       "      <th>4</th>\n",
       "      <td>2020</td>\n",
       "      <td>40.7</td>\n",
       "      <td>59.3</td>\n",
       "      <td>2020</td>\n",
       "    </tr>\n",
       "  </tbody>\n",
       "</table>\n",
       "</div>"
      ],
      "text/plain": [
       "is_oa_normalized  year  Accès fermé  Accès ouvert year_obs\n",
       "0                 2016         39.1          60.9     2022\n",
       "1                 2017         35.4          64.6     2022\n",
       "2                 2018         34.6          65.4     2022\n",
       "3                 2019         29.7          70.3     2022\n",
       "4                 2020         27.3          72.7     2022\n",
       "5                 2021         27.2          72.8     2022\n",
       "0                 2016         39.3          60.7     2021\n",
       "1                 2017         35.9          64.1     2021\n",
       "2                 2018         35.1          64.9     2021\n",
       "3                 2019         32.4          67.6     2021\n",
       "4                 2020         31.3          68.7     2021\n",
       "5                 2021         38.8          61.2     2021\n",
       "0                 2016         38.8          61.2     2020\n",
       "1                 2017         35.8          64.2     2020\n",
       "2                 2018         35.8          64.2     2020\n",
       "3                 2019         36.9          63.1     2020\n",
       "4                 2020         40.7          59.3     2020"
      ]
     },
     "metadata": {},
     "output_type": "display_data"
    }
   ],
   "source": [
    "df = pd.read_sql(f'select distinct(bso_publis_uniques_{comp_last_date}.doi) as doi, bso_publis_uniques_{comp_last_date}.year, bso_publis_uniques_{comp_last_date}.title, '\n",
    "                       f'bso_publis_uniques_{comp_last_date}.publisher_by_doiprefix, bso_publis_uniques_{comp_last_date}.is_oa_normalized, bso_publis_uniques_{comp_last_date}.oa_status_normalized '\n",
    "                       f'FROM bso_publis_uniques_{comp_last_date} JOIN bso_publis_uniques_{comp_first_date} ON bso_publis_uniques_{comp_last_date}.doi = bso_publis_uniques_{comp_first_date}.doi '\n",
    "                       f'JOIN bso_publis_all_by_affiliation_{comp_last_date} ON bso_publis_uniques_{comp_last_date}.doi = bso_publis_all_by_affiliation_{comp_last_date}.doi '\n",
    "                       f'WHERE bso_publis_all_by_affiliation_{comp_last_date}.aff_internal_id = {selected_structure} AND bso_publis_uniques_{comp_first_date}.is_oa_normalized = \"{comp_first_oa_state}\" '\n",
    "                       f'AND bso_publis_uniques_{comp_last_date}.is_oa_normalized <> bso_publis_uniques_{comp_first_date}.is_oa_normalized' ,dbEngine)"
   ]
  },
  {
   "cell_type": "code",
   "execution_count": null,
   "id": "2d7a3e63",
   "metadata": {},
   "outputs": [],
   "source": []
  }
 ],
 "metadata": {
  "kernelspec": {
   "display_name": "Python 3 (ipykernel)",
   "language": "python",
   "name": "python3"
  },
  "language_info": {
   "codemirror_mode": {
    "name": "ipython",
    "version": 3
   },
   "file_extension": ".py",
   "mimetype": "text/x-python",
   "name": "python",
   "nbconvert_exporter": "python",
   "pygments_lexer": "ipython3",
   "version": "3.8.13"
  }
 },
 "nbformat": 4,
 "nbformat_minor": 5
}
