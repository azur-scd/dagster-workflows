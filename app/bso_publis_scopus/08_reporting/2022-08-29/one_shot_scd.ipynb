{
 "cells": [
  {
   "cell_type": "markdown",
   "id": "b326a7f8",
   "metadata": {},
   "source": [
    "> **NB : A ouvrir dans bamboolib**"
   ]
  },
  {
   "cell_type": "markdown",
   "id": "b96b0595",
   "metadata": {},
   "source": [
    "> Les fichiers produits sont dans app/bso_publis_scopus/08_reporting/2022-08-29/open_access/consolidation/one_shot_scd/"
   ]
  },
  {
   "cell_type": "code",
   "execution_count": 5,
   "id": "70e282c1",
   "metadata": {},
   "outputs": [],
   "source": [
    "import pandas as pd\n",
    "import numpy as np\n",
    "import bamboolib as bam\n",
    "import plotly.express as px\n",
    "import sqlite3\n",
    "from sqlite3 import Error\n",
    "import sqlalchemy as sqla\n",
    "from pivottablejs import pivot_ui\n",
    "import json\n",
    "# pip install openpyxl"
   ]
  },
  {
   "cell_type": "code",
   "execution_count": 72,
   "id": "f05bce7d",
   "metadata": {},
   "outputs": [],
   "source": [
    "dbEngine=sqla.create_engine('sqlite:////home/docker/app/bso_publis_scopus/09_db/publications.db')\n",
    "df = pd.read_sql(f'select * from bso_publis_uniques_20220829',dbEngine)\n",
    "df_all = pd.read_sql(f'select * from bso_publis_all_by_affiliation_20220829',dbEngine)"
   ]
  },
  {
   "cell_type": "markdown",
   "id": "42b6f09d",
   "metadata": {},
   "source": [
    "## [Demande Marai-Livia] Nb publis par éditeurs"
   ]
  },
  {
   "cell_type": "code",
   "execution_count": 11,
   "id": "80bebd8c",
   "metadata": {},
   "outputs": [],
   "source": [
    "d = pd.pivot_table(df, columns=['year'], index=['publisher_by_doiprefix'], values='doi', aggfunc='size', fill_value=0)\n",
    "import pandas as pd; import numpy as np\n",
    "d = d.reset_index()\n",
    "d.columns = [str(column) for column in d.columns]\n",
    "d = d.rename(columns={\"publisher_by_doiprefix\":\"Editeur\"})\n",
    "d.to_excel(\"/home/docker/app/bso_publis_scopus/08_reporting/2022-08-29/open_access/consolidation/one_shot_scd/nb_publis_uca_par_editeur_2016-2021.xlsx\")"
   ]
  },
  {
   "cell_type": "markdown",
   "id": "9b5187bf",
   "metadata": {},
   "source": [
    "## [Demande Xavier] Liste publis OA Bronze & Hybrid"
   ]
  },
  {
   "cell_type": "code",
   "execution_count": 37,
   "id": "73014304",
   "metadata": {},
   "outputs": [],
   "source": [
    "import pandas as pd; import numpy as np\n",
    "# Step: Keep rows where (((oa_status_normalized is one of: Bronze) or (oa_status_normalized is one of: Hybrid)) and (oa_host_type_normalized is one of: Editeur)) or (oa_host_type_normalized is one of: Editeur et archive ouverte)\n",
    "d = df.loc[((df['oa_status_normalized'].isin(['Bronze'])) | (df['oa_status_normalized'].isin(['Hybrid']))) & ((df['oa_host_type_normalized'].isin(['Editeur'])) | (df['oa_host_type_normalized'].isin(['Editeur et archive ouverte'])))]\n",
    "# Step: Drop columns\n",
    "d1 = d.drop(columns=['published_date', 'publisher', 'oa_status', 'journal_is_in_doaj','oa_locations_host_type', 'oa_locations_license', 'oa_locations_version', 'oa_host_domain', 'oa_hostdomain_count', 'doi_prefix', 'bso_classification_classe', 'source', 'bso_classification_en'])\n",
    "d1.to_excel(\"/home/docker/app/bso_publis_scopus/08_reporting/2022-08-29/open_access/consolidation/one_shot_scd/listing_publis_uca_hybrid_bronze_2016-2021\n",
    "            .xlsx\")"
   ]
  },
  {
   "cell_type": "markdown",
   "id": "96c48ff5",
   "metadata": {},
   "source": [
    "A ajouter manuellement dans pivottable.html\n",
    "\n",
    "\t <h3>Périmètre</h3>\n",
    "\t  <p>Publications UCA 2016-2021 accessible en OA hybride ou bronze</p>\n",
    "\t  <h3>Dictionnaire de variables</h3>\n",
    "\t\t <ul>\n",
    "\t\t  <li>source_id : Id Scopus</li>\n",
    "\t\t  <li>doi : DOI</li>\n",
    "\t\t  <li>year : année de publication</li>\n",
    "\t\t  <li>corresponding : auteur de correspondance si UCA (avec labo)</li>\n",
    "\t\t  <li>all_authors : tous auteurs UCA</li>\n",
    "\t\t  <li>genre : type de publication</li>\n",
    "\t\t  <li>title : titre</li>\n",
    "\t\t  <li>journal_name : titre de revue</li>\n",
    "\t\t  <li>journal_issn_l : ISSN de lien de la revue</li>\n",
    "\t\t  <li>journal_is_oa : valeurs 0/1, revue full OA gold (ie indexée dans le DOAJ)</li>\n",
    "\t\t  <li>is_oa_normalized : Accès ouvert / Accès fermé</li>\n",
    "\t\t  <li>oa_status_normalized : Accès fermé / Gold / Bronze / Hybrid</li>\n",
    "\t\t  <li>oa_host_type_normalized : Accès fermé / OA site éditeur / OA sur archive ouverte / OA édieteur et archive ouverte</li>\n",
    "\t\t  <li>oa_repo_normalized : hébergement Hal / Arxiv / autres</li>\n",
    "\t\t  <li>publisher_by_doiprefix : éditeur (consolidé)</li>\n",
    "\t\t  <li>bso_classification_fr : discipline</li>\n",
    "\t\t</ul>"
   ]
  },
  {
   "cell_type": "markdown",
   "id": "e99f250a",
   "metadata": {},
   "source": [
    "## [Demande Ghislain] Totaux publis par labos avec proportion dépôts dans HAL"
   ]
  },
  {
   "cell_type": "code",
   "execution_count": 73,
   "id": "05913f31",
   "metadata": {},
   "outputs": [],
   "source": [
    "# Step: Extract hal number value from each doi\n",
    "df[\"hal_count\"] = df[\"oa_hostdomain_count\"].apply(lambda x: x.replace(\"'\", '\"'))\n",
    "df[\"hal_count\"] = df[\"hal_count\"].apply(lambda x: list(json.loads(x).values())[0])\n",
    "\n",
    "# Step: Right Join with df where doi=doi\n",
    "df_all = pd.merge(df_all, df[['doi', 'hal_count']], how='left', on=['doi'])\n",
    "\n",
    "# Step: First groupby for counting doi by aff\n",
    "df_all_groupbyaff_count = df_all.groupby(['aff_internal_id', 'affiliation_name']).agg(all_doi_count=('doi', 'nunique')).reset_index()\n",
    "\n",
    "# Step: Second groupby for counting hal by aff where hal_count is not null and != 0\n",
    "df_hal_groupbyaff_count = df_all.loc[(df_all['hal_count'] != 0.0) & (df_all['hal_count'].notna())].groupby(['aff_internal_id', 'affiliation_name']).agg(hal_doi_count=('doi', 'nunique')).reset_index()\n",
    "\n",
    "# Step: Left Join with df_hal_groupbyaff_count where aff_internal_id=aff_internal_id\n",
    "df_hal = pd.merge(df_all_groupbyaff_count, df_hal_groupbyaff_count[['aff_internal_id', 'hal_doi_count']], how='left', on=['aff_internal_id'])\n",
    "\n",
    "# Step: Change data type of ['all_doi_count', 'hal_doi_count'] to Integer\n",
    "for column_name in ['all_doi_count', 'hal_doi_count']:\n",
    "    df_hal[column_name] = df_hal[column_name].astype('Int64')\n",
    "    \n",
    "# Step: Calculate percent of hal records in new col\n",
    "df_hal[\"hal_doi_percent\"] = round(df_hal[\"hal_doi_count\"] / df_hal[\"all_doi_count\"] * 100).astype('Int64')\n",
    "\n",
    "# Step: arrange table form\n",
    "df_hal = df_hal.drop(columns=[\"aff_internal_id\"])\n",
    "df_hal.columns = ['Labo', 'Total DOI', 'Total DOI avec dépôt dans HAL', 'Pourcentage de dépôts HAL']\n",
    "\n",
    "# Step: save\n",
    "df_hal.to_excel(\"/home/docker/app/bso_publis_scopus/08_reporting/2022-08-29/open_access/consolidation/one_shot_scd/nb_publis_avec_depot_hal_2016-2021.xlsx\")"
   ]
  }
 ],
 "metadata": {
  "kernelspec": {
   "display_name": "Python 3 (ipykernel)",
   "language": "python",
   "name": "python3"
  },
  "language_info": {
   "codemirror_mode": {
    "name": "ipython",
    "version": 3
   },
   "file_extension": ".py",
   "mimetype": "text/x-python",
   "name": "python",
   "nbconvert_exporter": "python",
   "pygments_lexer": "ipython3",
   "version": "3.8.15"
  }
 },
 "nbformat": 4,
 "nbformat_minor": 5
}
