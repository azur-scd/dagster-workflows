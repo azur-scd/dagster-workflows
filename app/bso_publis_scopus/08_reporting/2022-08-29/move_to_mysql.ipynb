{
 "cells": [
  {
   "cell_type": "code",
   "execution_count": 1,
   "id": "7458990f",
   "metadata": {},
   "outputs": [],
   "source": [
    "import pandas as pd\n",
    "import sqlalchemy as sqla\n",
    "import pymysql\n",
    "import requests\n",
    "import json\n",
    "import bamboolib as bam"
   ]
  },
  {
   "cell_type": "markdown",
   "id": "0022096d",
   "metadata": {},
   "source": [
    "## MySQL connection"
   ]
  },
  {
   "cell_type": "code",
   "execution_count": 2,
   "id": "5dd0a5c8",
   "metadata": {},
   "outputs": [],
   "source": [
    "user = \"gazw6343_ggeoffroy\"\n",
    "password = \"CLg#6z[_tUyW\"\n",
    "host = \"nout.o2switch.net\"\n",
    "database = \"gazw6343_si_publications\""
   ]
  },
  {
   "cell_type": "code",
   "execution_count": 3,
   "id": "e659c1d4",
   "metadata": {},
   "outputs": [],
   "source": [
    "# sqlalchemy\n",
    "engine = sqla.create_engine(f'mysql+pymysql://{user}:{password}@{host}/{database}', pool_recycle=1)"
   ]
  },
  {
   "cell_type": "code",
   "execution_count": 61,
   "id": "2bdc70c2",
   "metadata": {},
   "outputs": [],
   "source": [
    "# pymysql\n",
    "connection = pymysql.connect(host=host,\n",
    "                             user=user,\n",
    "                             password=password,\n",
    "                             db=database)\n",
    "cursor=connection.cursor()"
   ]
  },
  {
   "cell_type": "code",
   "execution_count": 12,
   "id": "1a67ce6d",
   "metadata": {},
   "outputs": [],
   "source": [
    "'''\n",
    "Create a mapping of df dtypes to mysql data types (not perfect, but close enough)\n",
    "'''\n",
    "def dtype_mapping():\n",
    "    return {'object' : 'TEXT',\n",
    "        'int64' : 'INT',\n",
    "         'Int64' : 'INT',\n",
    "        'float64' : 'FLOAT',\n",
    "        'datetime64' : 'DATETIME',\n",
    "        'bool' : 'TINYINT',\n",
    "        'category' : 'TEXT',\n",
    "        'timedelta[ns]' : 'TEXT'}\n",
    "\n",
    "'''\n",
    "Create sql input for table names and types\n",
    "'''\n",
    "def gen_tbl_cols_sql(df):\n",
    "    dmap = dtype_mapping()\n",
    "    sql = \"id INT AUTO_INCREMENT PRIMARY KEY\"\n",
    "    df1 = df.rename(columns = {\"\" : \"nocolname\"})\n",
    "    hdrs = df1.dtypes.index\n",
    "    hdrs_list = [(hdr, str(df1[hdr].dtype)) for hdr in hdrs]\n",
    "    for hl in hdrs_list:\n",
    "        if hl[0] != 'id':\n",
    "            sql += \" ,{0} {1}\".format(hl[0], dmap[hl[1]])\n",
    "    return sql\n",
    "\n",
    "'''\n",
    "Create a mysql table from a df\n",
    "'''\n",
    "def create_mysql_tbl_schema(df, connection, db, tbl_name):\n",
    "    tbl_cols_sql = gen_tbl_cols_sql(df)\n",
    "    sql = \"USE {0}; CREATE TABLE {1} ({2})\".format(db, tbl_name, tbl_cols_sql)\n",
    "    print(sql)\n",
    "    cur = connection.cursor()\n",
    "    cur.execute(sql)\n",
    "    #cur.close()\n",
    "    #connection.commit()"
   ]
  },
  {
   "cell_type": "code",
   "execution_count": 10,
   "id": "351eb554",
   "metadata": {},
   "outputs": [
    {
     "name": "stdout",
     "output_type": "stream",
     "text": [
      "   id  parent_id scopus_id                                              label  \\\n",
      "0   1          0  60110693                             Université Côte d'Azur   \n",
      "1   2          1  60010513                     Observatoire de la Côte d'Azur   \n",
      "2   3          1  60122129                                        Villa Arson   \n",
      "3   4          1  60006380  Institut de Pharmacologie Moléculaire et Cellu...   \n",
      "4   5          1  60006696  Centre de Recherche sur l'Hétéro-Epitaxie et s...   \n",
      "\n",
      "         ppn     rnsr_id  hal_id  \n",
      "0                                 \n",
      "1  035675683                      \n",
      "2  02643587X                      \n",
      "3  05957321X  201220332C  199361  \n",
      "4  060408278  200017509L     409  \n"
     ]
    }
   ],
   "source": [
    "query = 'SELECT * FROM referentiel_structures LIMIT 5'\n",
    "df = pd.read_sql_query(sql=sqla.text(query), con=engine.connect())\n",
    "print(df)"
   ]
  },
  {
   "cell_type": "markdown",
   "id": "b072f01e",
   "metadata": {},
   "source": [
    "### Reférentiel des structures"
   ]
  },
  {
   "cell_type": "code",
   "execution_count": 66,
   "id": "e0e8895b",
   "metadata": {},
   "outputs": [],
   "source": [
    "df_init = (pd.read_json(\"../../03_primary/referentiel_structures.json\")\n",
    ".rename(columns={'affiliation_name': 'label','affiliation_id':'scopus_id','ppn_valide': 'ppn','RNSR':'rnsr_id','HAL':'hal_id'})\n",
    ".drop(['affcourt_valide','documents_count','VIAF', 'ISNI', 'BNF'], axis=1)\n",
    ".reindex(columns=['id','parent_id','scopus_id','label','ppn', 'rnsr_id', 'hal_id'])\n",
    "          )"
   ]
  },
  {
   "cell_type": "code",
   "execution_count": null,
   "id": "ce6bbcc8",
   "metadata": {},
   "outputs": [],
   "source": [
    "#genère la requête SQL de création de la table mais avec erreur -> à entre direct dans phpmyAdmin\n",
    "create_mysql_tbl_schema(df_init, connection, database, \"referentiel_strutures\")\n",
    "# pour créer une clé primaire\n",
    "# ALTER TABLE tbl ADD id INT PRIMARY KEY AUTO_INCREMENT;"
   ]
  },
  {
   "cell_type": "code",
   "execution_count": 67,
   "id": "de735074",
   "metadata": {},
   "outputs": [
    {
     "data": {
      "text/plain": [
       "50"
      ]
     },
     "execution_count": 67,
     "metadata": {},
     "output_type": "execute_result"
    }
   ],
   "source": [
    "df_init.to_sql('referentiel_structures', con = engine, if_exists = 'append', index=False)"
   ]
  },
  {
   "cell_type": "markdown",
   "id": "fa061a74",
   "metadata": {},
   "source": [
    "### référentiel publishers"
   ]
  },
  {
   "cell_type": "code",
   "execution_count": 78,
   "id": "4e960c59",
   "metadata": {},
   "outputs": [
    {
     "data": {
      "text/plain": [
       "364"
      ]
     },
     "execution_count": 78,
     "metadata": {},
     "output_type": "execute_result"
    }
   ],
   "source": [
    "df = pd.read_csv(\"../../03_primary/mapping_doiprefixes_publisher.csv\", sep=\",\", encoding=\"utf-8\")\n",
    "import pandas as pd; import numpy as np\n",
    "# Step: Change data type of ['prefix', 'publisher_by_doiprefix'] to String/Text\n",
    "for column_name in df.columns:\n",
    "    df[column_name] = df[column_name].astype('string')\n",
    "\n",
    "# Step: Drop missing values in ['publisher_by_doiprefix']\n",
    "df = df.dropna(subset=['publisher_by_doiprefix'])\n",
    "\n",
    "# Step: Rename column\n",
    "df = df.rename(columns={'prefix': 'doi_prefix','publisher_by_doiprefix':'publisher_group'})\n",
    "\n",
    "df.to_sql('referentiel_publishers', con = engine, if_exists = 'append', index=False)"
   ]
  },
  {
   "cell_type": "markdown",
   "id": "356a2cfd",
   "metadata": {},
   "source": [
    "### Publications avec affil"
   ]
  },
  {
   "cell_type": "code",
   "execution_count": 133,
   "id": "129d6d8a",
   "metadata": {},
   "outputs": [
    {
     "data": {
      "application/vnd.jupyter.widget-view+json": {
       "model_id": "1d1bc4401ce8412dbd53c2d2e5348c75"
      },
      "text/plain": [
       "               scopus_doc_id                        doi  \\\n",
       "0      SCOPUS_ID:84889561052          10.1111/ger.12094   \n",
       "1      SCOPUS_ID:84908431549  10.1016/j.lrp.2014.09.001   \n",
       "2      SCOPUS_ID:84908431549  10.1016/j.lrp.2014.09.001   \n",
       "3      SCOPUS_ID:84909580664  10.1007/978-1-349-26270-0   \n",
       "4      SCOPUS_ID:84921605785   10.4324/9781315539171-20   \n",
       "...                      ...                        ...   \n",
       "43304  SCOPUS_ID:85135972868    10.1021/acs.cgd.2c00286   \n",
       "43305  SCOPUS_ID:85136006925       10.1021/jacs.2c05248   \n",
       "43306  SCOPUS_ID:85136006925       10.1021/jacs.2c05248   \n",
       "43307  SCOPUS_ID:85136010348       10.1093/imrn/rnab050   \n",
       "43308  SCOPUS_ID:85136042635   10.1088/2058-9565/ac8444   \n",
       "\n",
       "                                      scopus_source_text scopus_author_id  \\\n",
       "0      UFR Odontologie, Université Nice Sophia Antipolis      24484677100   \n",
       "1                    University of Nice-Sophia Antipolis      15757847500   \n",
       "2                    University of Nice-Sophia Antipolis      55509635600   \n",
       "3                    University of Nice Sophia-Antipolis       6603670134   \n",
       "4      Dance Department, RITM research center, Nice U...      56528480100   \n",
       "...                                                  ...              ...   \n",
       "43304                    CRHEA-CNRS, Rue Bernard Gregory       8378521200   \n",
       "43305  Institut de Chimie de Nice, UMR7272, Universit...      57195725776   \n",
       "43306  Institut de Chimie de Nice, UMR7272, Universit...       7003839418   \n",
       "43307  Laboratoire J.A. Dieudonné, UMR CNRS-UNS 7351,...      57193128431   \n",
       "43308  Institut de Physique de Nice, Université Côte ...      14031193600   \n",
       "\n",
       "              author_name          corresponding_author  affil_id  \n",
       "0            Lassauzay C.                           oui         1  \n",
       "1            Saglietto L.                           non         1  \n",
       "2      Loufrani-Fedida S.                           oui         1  \n",
       "3            Gaffard J.L.                           non         1  \n",
       "4              Nordera M.                           oui         1  \n",
       "...                   ...                           ...       ...  \n",
       "43304           Chenot S.                           non         5  \n",
       "43305          Taakili R.  corr absent pour cette publi        38  \n",
       "43306          Benhida R.  corr absent pour cette publi        38  \n",
       "43307        Ingremeau M.                           oui         9  \n",
       "43308        Bachelard R.  corr absent pour cette publi        29  \n",
       "\n",
       "[43309 rows x 7 columns]"
      ]
     },
     "metadata": {},
     "output_type": "display_data"
    }
   ],
   "source": [
    "df_struct = pd.read_sql_query(sql=sqla.text(\"select * from referentiel_structures\"), con=engine.connect())\n",
    "\n",
    "df = pd.read_csv(\"../../08_reporting/2022-08-29/open_access/publis_all_with_affiliations_data.csv\", sep=\",\", encoding=\"utf-8\")\n",
    "# Step: Left Join with df_struct where aff_scopus_id=scopus_id\n",
    "df = pd.merge(df, df_struct[['scopus_id', 'id']], how='left', left_on=['aff_scopus_id'], right_on=['scopus_id'])\n",
    "import pandas as pd; import numpy as np\n",
    "# Step: Drop columns\n",
    "df = df.drop(columns=['scopus_title', 'year', 'creator_author', 'all_authors', 'aff_scopus_id','affiliation_name', 'aff_internal_id', 'aff_parent_id', 'corresponding', 'scopus_id'])\n",
    "\n",
    "# Step: Rename column\n",
    "df = df.rename(columns={'source_id': 'scopus_doc_id', 'aff_source_text': 'scopus_source_text', \n",
    "                        'author_id': 'scopus_author_id','id': 'affil_id'})\n",
    "\n",
    "import pandas as pd; import numpy as np\n",
    "# Step: Change data type of scopus_author_id to String/Text\n",
    "df['scopus_author_id'] = df['scopus_author_id'].astype('string')\n",
    "\n",
    "df"
   ]
  },
  {
   "cell_type": "code",
   "execution_count": null,
   "id": "2ad871a8",
   "metadata": {},
   "outputs": [],
   "source": [
    "create_mysql_tbl_schema(df, connection, database, \"publis_detail_affil\")"
   ]
  },
  {
   "cell_type": "code",
   "execution_count": 135,
   "id": "e9b3272a",
   "metadata": {},
   "outputs": [
    {
     "data": {
      "text/plain": [
       "43309"
      ]
     },
     "execution_count": 135,
     "metadata": {},
     "output_type": "execute_result"
    }
   ],
   "source": [
    "df.to_sql('publis_detail_affil', con = engine, if_exists = 'append', index=False)"
   ]
  },
  {
   "cell_type": "markdown",
   "id": "96fbe990",
   "metadata": {},
   "source": [
    "### Publications uniques metadata"
   ]
  },
  {
   "cell_type": "code",
   "execution_count": 4,
   "id": "4b2bfeeb-7d07-4887-adcf-5bdb70319f51",
   "metadata": {},
   "outputs": [],
   "source": [
    "import pandas as pd; import numpy as np\n",
    "df = pd.read_csv(r'C:\\Users\\geoffroy\\Docker\\dagster\\app\\bso_publis_scopus\\08_reporting\\2022-08-29\\open_access\\publis_uniques_doi_oa_data_with_bsoclasses_complete.csv', sep=',', decimal='.', nrows=100000)\n",
    "# Step: Drop columns\n",
    "df_publis_metadata = df.drop(columns=['published_date', 'journal_is_oa', 'journal_is_in_doaj', 'oa_status', 'is_oa_normalized', 'oa_status_normalized', 'oa_locations_license', 'oa_locations_host_type', 'oa_host_type_normalized', 'oa_locations_version', 'oa_host_domain', 'oa_hostdomain_count', 'oa_repo_normalized', 'dsm_oa_classification', 'dsm_policy_preprint', 'dsm_romeo_id', 'dsm_splash_url', 'dsm_policy_postprint', 'dsm_policy_published'])"
   ]
  },
  {
   "cell_type": "code",
   "execution_count": 5,
   "id": "847048d9-a585-46f7-8d8e-378a64e151c8",
   "metadata": {},
   "outputs": [
    {
     "data": {
      "text/plain": [
       "(14607, 37)"
      ]
     },
     "execution_count": 5,
     "metadata": {},
     "output_type": "execute_result"
    }
   ],
   "source": [
    "df.shape"
   ]
  },
  {
   "cell_type": "code",
   "execution_count": 15,
   "id": "310b0913-110a-445f-9feb-ff0b02bdbfaf",
   "metadata": {},
   "outputs": [
    {
     "data": {
      "text/plain": [
       "Index(['scopus_doc_id', 'doi', 'year', 'corresponding', 'all_authors', 'genre',\n",
       "       'title', 'publisher', 'journal_name', 'journal_issn_l', 'doi_prefix',\n",
       "       'publisher_by_doiprefix', 'bso_classification_classe', 'source',\n",
       "       'bso_classification_en', 'bso_classification_fr', 'citations',\n",
       "       'funder'],\n",
       "      dtype='object')"
      ]
     },
     "execution_count": 15,
     "metadata": {},
     "output_type": "execute_result"
    }
   ],
   "source": [
    "# Step: Change data type of ['bso_classification_classe', 'is-referenced-by-count'] to Integer\n",
    "for column_name in ['bso_classification_classe', 'is-referenced-by-count']:\n",
    "    df_publis_metadata[column_name] = df_publis_metadata[column_name].astype('Int64')\n",
    "\n",
    "# Step: Rename column\n",
    "df_publis_metadata = df_publis_metadata.rename(columns={'source_id': 'scopus_doc_id', 'is-referenced-by-count': 'citations'})\n",
    "\n",
    "\n",
    "df_publis_metadata.columns"
   ]
  },
  {
   "cell_type": "code",
   "execution_count": null,
   "id": "30f59794",
   "metadata": {},
   "outputs": [],
   "source": [
    "create_mysql_tbl_schema(df_publis_metadata, connection, database, \"publis_metadata\")"
   ]
  },
  {
   "cell_type": "code",
   "execution_count": 18,
   "id": "51be75de",
   "metadata": {},
   "outputs": [
    {
     "data": {
      "text/plain": [
       "14607"
      ]
     },
     "execution_count": 18,
     "metadata": {},
     "output_type": "execute_result"
    }
   ],
   "source": [
    "df_publis_metadata.to_sql('publis_metadata', con = engine, if_exists = 'append', index=False)"
   ]
  },
  {
   "cell_type": "markdown",
   "id": "7fff453b",
   "metadata": {},
   "source": [
    "### Publis uniques OA data"
   ]
  },
  {
   "cell_type": "code",
   "execution_count": 59,
   "id": "2d1a4914",
   "metadata": {},
   "outputs": [
    {
     "data": {
      "application/vnd.jupyter.widget-view+json": {
       "model_id": "3e36d005a93d4cb791b485c269b47f51",
       "version_major": 2,
       "version_minor": 0
      },
      "text/plain": [
       "BamboolibModuleWindow(children=(Window(children=(VBox(children=(VBox(children=(Button(description='Read CSV fi…"
      ]
     },
     "metadata": {},
     "output_type": "display_data"
    }
   ],
   "source": [
    "import pandas as pd; import numpy as np\n",
    "df = pd.read_csv(r'C:\\Users\\geoffroy\\Docker\\dagster\\app\\bso_publis_scopus\\08_reporting\\2022-08-29\\open_access\\publis_uniques_doi_oa_data_with_bsoclasses_complete.csv', sep=',', decimal='.', nrows=100000)\n",
    "# Step: Drop columns\n",
    "df = df.drop(columns=['year', 'corresponding', 'all_authors', 'title', 'genre', 'published_date', 'publisher', 'journal_name', 'journal_issn_l', 'oa_status', 'oa_locations_host_type', 'oa_locations_license', 'oa_locations_version', 'oa_host_domain', 'doi_prefix', 'bso_classification_en', 'bso_classification_fr', 'source', 'bso_classification_classe', 'is-referenced-by-count', 'publisher_by_doiprefix', 'dsm_romeo_id', 'dsm_policy_published', 'dsm_policy_postprint', 'dsm_policy_preprint', 'dsm_splash_url', 'dsm_oa_classification', 'funder'])\n",
    "\n",
    "# Step: Rename column\n",
    "df = df.rename(columns={'source_id': 'scopus_doc_id'})\n",
    "\n",
    "# Step: Create new column 'obs_date' from formula '\"2022-08-29\"'\n",
    "df['obs_date'] = \"2022-08-29\"\n",
    "\n",
    "# Step: Create new column 'obs_date_year' from formula '\"2022\"'\n",
    "df['obs_date_year'] = \"2022\"\n",
    "\n",
    "df"
   ]
  },
  {
   "cell_type": "code",
   "execution_count": 51,
   "id": "50fcca8a",
   "metadata": {},
   "outputs": [
    {
     "name": "stdout",
     "output_type": "stream",
     "text": [
      "USE gazw6343_si_publications; CREATE TABLE publis_oa_data (id INT AUTO_INCREMENT PRIMARY KEY ,scopus_doc_id TEXT ,doi TEXT ,year_upw FLOAT ,journal_is_oa TEXT ,journal_is_in_doaj TEXT ,oa_locations TEXT ,is_oa_normalized TEXT ,oa_status_normalized TEXT ,oa_host_type_normalized TEXT ,oa_hostdomain_count TEXT ,oa_repo_normalized TEXT ,obs_date TEXT ,obs_date_year TEXT)\n"
     ]
    },
    {
     "ename": "InterfaceError",
     "evalue": "(0, '')",
     "output_type": "error",
     "traceback": [
      "\u001b[1;31m---------------------------------------------------------------------------\u001b[0m",
      "\u001b[1;31mInterfaceError\u001b[0m                            Traceback (most recent call last)",
      "Cell \u001b[1;32mIn[51], line 1\u001b[0m\n\u001b[1;32m----> 1\u001b[0m \u001b[43mcreate_mysql_tbl_schema\u001b[49m\u001b[43m(\u001b[49m\u001b[43mdf\u001b[49m\u001b[43m,\u001b[49m\u001b[43m \u001b[49m\u001b[43mconnection\u001b[49m\u001b[43m,\u001b[49m\u001b[43m \u001b[49m\u001b[43mdatabase\u001b[49m\u001b[43m,\u001b[49m\u001b[43m \u001b[49m\u001b[38;5;124;43m\"\u001b[39;49m\u001b[38;5;124;43mpublis_oa_data\u001b[39;49m\u001b[38;5;124;43m\"\u001b[39;49m\u001b[43m)\u001b[49m\n",
      "Cell \u001b[1;32mIn[12], line 36\u001b[0m, in \u001b[0;36mcreate_mysql_tbl_schema\u001b[1;34m(df, connection, db, tbl_name)\u001b[0m\n\u001b[0;32m     34\u001b[0m \u001b[38;5;28mprint\u001b[39m(sql)\n\u001b[0;32m     35\u001b[0m cur \u001b[38;5;241m=\u001b[39m connection\u001b[38;5;241m.\u001b[39mcursor()\n\u001b[1;32m---> 36\u001b[0m \u001b[43mcur\u001b[49m\u001b[38;5;241;43m.\u001b[39;49m\u001b[43mexecute\u001b[49m\u001b[43m(\u001b[49m\u001b[43msql\u001b[49m\u001b[43m)\u001b[49m\n",
      "File \u001b[1;32m~\\Anaconda3\\lib\\site-packages\\pymysql\\cursors.py:148\u001b[0m, in \u001b[0;36mCursor.execute\u001b[1;34m(self, query, args)\u001b[0m\n\u001b[0;32m    144\u001b[0m     \u001b[38;5;28;01mpass\u001b[39;00m\n\u001b[0;32m    146\u001b[0m query \u001b[38;5;241m=\u001b[39m \u001b[38;5;28mself\u001b[39m\u001b[38;5;241m.\u001b[39mmogrify(query, args)\n\u001b[1;32m--> 148\u001b[0m result \u001b[38;5;241m=\u001b[39m \u001b[38;5;28;43mself\u001b[39;49m\u001b[38;5;241;43m.\u001b[39;49m\u001b[43m_query\u001b[49m\u001b[43m(\u001b[49m\u001b[43mquery\u001b[49m\u001b[43m)\u001b[49m\n\u001b[0;32m    149\u001b[0m \u001b[38;5;28mself\u001b[39m\u001b[38;5;241m.\u001b[39m_executed \u001b[38;5;241m=\u001b[39m query\n\u001b[0;32m    150\u001b[0m \u001b[38;5;28;01mreturn\u001b[39;00m result\n",
      "File \u001b[1;32m~\\Anaconda3\\lib\\site-packages\\pymysql\\cursors.py:310\u001b[0m, in \u001b[0;36mCursor._query\u001b[1;34m(self, q)\u001b[0m\n\u001b[0;32m    308\u001b[0m \u001b[38;5;28mself\u001b[39m\u001b[38;5;241m.\u001b[39m_last_executed \u001b[38;5;241m=\u001b[39m q\n\u001b[0;32m    309\u001b[0m \u001b[38;5;28mself\u001b[39m\u001b[38;5;241m.\u001b[39m_clear_result()\n\u001b[1;32m--> 310\u001b[0m \u001b[43mconn\u001b[49m\u001b[38;5;241;43m.\u001b[39;49m\u001b[43mquery\u001b[49m\u001b[43m(\u001b[49m\u001b[43mq\u001b[49m\u001b[43m)\u001b[49m\n\u001b[0;32m    311\u001b[0m \u001b[38;5;28mself\u001b[39m\u001b[38;5;241m.\u001b[39m_do_get_result()\n\u001b[0;32m    312\u001b[0m \u001b[38;5;28;01mreturn\u001b[39;00m \u001b[38;5;28mself\u001b[39m\u001b[38;5;241m.\u001b[39mrowcount\n",
      "File \u001b[1;32m~\\Anaconda3\\lib\\site-packages\\pymysql\\connections.py:547\u001b[0m, in \u001b[0;36mConnection.query\u001b[1;34m(self, sql, unbuffered)\u001b[0m\n\u001b[0;32m    545\u001b[0m \u001b[38;5;28;01mif\u001b[39;00m \u001b[38;5;28misinstance\u001b[39m(sql, \u001b[38;5;28mstr\u001b[39m):\n\u001b[0;32m    546\u001b[0m     sql \u001b[38;5;241m=\u001b[39m sql\u001b[38;5;241m.\u001b[39mencode(\u001b[38;5;28mself\u001b[39m\u001b[38;5;241m.\u001b[39mencoding, \u001b[38;5;124m\"\u001b[39m\u001b[38;5;124msurrogateescape\u001b[39m\u001b[38;5;124m\"\u001b[39m)\n\u001b[1;32m--> 547\u001b[0m \u001b[38;5;28;43mself\u001b[39;49m\u001b[38;5;241;43m.\u001b[39;49m\u001b[43m_execute_command\u001b[49m\u001b[43m(\u001b[49m\u001b[43mCOMMAND\u001b[49m\u001b[38;5;241;43m.\u001b[39;49m\u001b[43mCOM_QUERY\u001b[49m\u001b[43m,\u001b[49m\u001b[43m \u001b[49m\u001b[43msql\u001b[49m\u001b[43m)\u001b[49m\n\u001b[0;32m    548\u001b[0m \u001b[38;5;28mself\u001b[39m\u001b[38;5;241m.\u001b[39m_affected_rows \u001b[38;5;241m=\u001b[39m \u001b[38;5;28mself\u001b[39m\u001b[38;5;241m.\u001b[39m_read_query_result(unbuffered\u001b[38;5;241m=\u001b[39munbuffered)\n\u001b[0;32m    549\u001b[0m \u001b[38;5;28;01mreturn\u001b[39;00m \u001b[38;5;28mself\u001b[39m\u001b[38;5;241m.\u001b[39m_affected_rows\n",
      "File \u001b[1;32m~\\Anaconda3\\lib\\site-packages\\pymysql\\connections.py:793\u001b[0m, in \u001b[0;36mConnection._execute_command\u001b[1;34m(self, command, sql)\u001b[0m\n\u001b[0;32m    788\u001b[0m \u001b[38;5;124;03m\"\"\"\u001b[39;00m\n\u001b[0;32m    789\u001b[0m \u001b[38;5;124;03m:raise InterfaceError: If the connection is closed.\u001b[39;00m\n\u001b[0;32m    790\u001b[0m \u001b[38;5;124;03m:raise ValueError: If no username was specified.\u001b[39;00m\n\u001b[0;32m    791\u001b[0m \u001b[38;5;124;03m\"\"\"\u001b[39;00m\n\u001b[0;32m    792\u001b[0m \u001b[38;5;28;01mif\u001b[39;00m \u001b[38;5;129;01mnot\u001b[39;00m \u001b[38;5;28mself\u001b[39m\u001b[38;5;241m.\u001b[39m_sock:\n\u001b[1;32m--> 793\u001b[0m     \u001b[38;5;28;01mraise\u001b[39;00m err\u001b[38;5;241m.\u001b[39mInterfaceError(\u001b[38;5;241m0\u001b[39m, \u001b[38;5;124m\"\u001b[39m\u001b[38;5;124m\"\u001b[39m)\n\u001b[0;32m    795\u001b[0m \u001b[38;5;66;03m# If the last query was unbuffered, make sure it finishes before\u001b[39;00m\n\u001b[0;32m    796\u001b[0m \u001b[38;5;66;03m# sending new commands\u001b[39;00m\n\u001b[0;32m    797\u001b[0m \u001b[38;5;28;01mif\u001b[39;00m \u001b[38;5;28mself\u001b[39m\u001b[38;5;241m.\u001b[39m_result \u001b[38;5;129;01mis\u001b[39;00m \u001b[38;5;129;01mnot\u001b[39;00m \u001b[38;5;28;01mNone\u001b[39;00m:\n",
      "\u001b[1;31mInterfaceError\u001b[0m: (0, '')"
     ]
    }
   ],
   "source": [
    "create_mysql_tbl_schema(df, connection, database, \"publis_oa_data\")"
   ]
  },
  {
   "cell_type": "code",
   "execution_count": 62,
   "id": "afc6902f",
   "metadata": {},
   "outputs": [
    {
     "data": {
      "text/plain": [
       "14607"
      ]
     },
     "execution_count": 62,
     "metadata": {},
     "output_type": "execute_result"
    }
   ],
   "source": [
    "df.to_sql('publis_oa_data', con = engine, if_exists = 'append', index=False)"
   ]
  },
  {
   "cell_type": "code",
   "execution_count": null,
   "id": "33500f28",
   "metadata": {},
   "outputs": [],
   "source": []
  }
 ],
 "metadata": {
  "kernelspec": {
   "display_name": "Python 3 (ipykernel)",
   "language": "python",
   "name": "python3"
  },
  "language_info": {
   "codemirror_mode": {
    "name": "ipython",
    "version": 3
   },
   "file_extension": ".py",
   "mimetype": "text/x-python",
   "name": "python",
   "nbconvert_exporter": "python",
   "pygments_lexer": "ipython3",
   "version": "3.9.7"
  },
  "varInspector": {
   "cols": {
    "lenName": 16,
    "lenType": 16,
    "lenVar": 40
   },
   "kernels_config": {
    "python": {
     "delete_cmd_postfix": "",
     "delete_cmd_prefix": "del ",
     "library": "var_list.py",
     "varRefreshCmd": "print(var_dic_list())"
    },
    "r": {
     "delete_cmd_postfix": ") ",
     "delete_cmd_prefix": "rm(",
     "library": "var_list.r",
     "varRefreshCmd": "cat(var_dic_list()) "
    }
   },
   "types_to_exclude": [
    "module",
    "function",
    "builtin_function_or_method",
    "instance",
    "_Feature"
   ],
   "window_display": false
  }
 },
 "nbformat": 4,
 "nbformat_minor": 5
}
