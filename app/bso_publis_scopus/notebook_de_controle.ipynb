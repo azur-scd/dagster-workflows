{
 "cells": [
  {
   "cell_type": "code",
   "execution_count": 1,
   "metadata": {},
   "outputs": [],
   "source": [
    "import pandas as pd\n",
    "import numpy as np\n",
    "import requests\n",
    "import json"
   ]
  },
  {
   "cell_type": "markdown",
   "metadata": {},
   "source": [
    "# Notebook de contôle"
   ]
  },
  {
   "cell_type": "markdown",
   "metadata": {},
   "source": [
    "## Contrôles à appliquer avant le workflow Dagster"
   ]
  },
  {
   "cell_type": "code",
   "execution_count": 2,
   "metadata": {},
   "outputs": [],
   "source": [
    "observation_date = \"2022-08-29\"\n",
    "corpus_end_year = 2022"
   ]
  },
  {
   "cell_type": "code",
   "execution_count": 18,
   "metadata": {},
   "outputs": [
    {
     "data": {
      "text/plain": [
       "(43309, 20)"
      ]
     },
     "execution_count": 18,
     "metadata": {},
     "output_type": "execute_result"
    }
   ],
   "source": [
    "df = pd.read_json(f'01_raw/{observation_date}/exportDonnees_barometre_complet_{observation_date}.json')\n",
    "df.shape"
   ]
  },
  {
   "cell_type": "markdown",
   "metadata": {},
   "source": [
    "### Vérif fichier bien formé"
   ]
  },
  {
   "cell_type": "code",
   "execution_count": 4,
   "metadata": {},
   "outputs": [
    {
     "data": {
      "text/html": [
       "<div>\n",
       "<style scoped>\n",
       "    .dataframe tbody tr th:only-of-type {\n",
       "        vertical-align: middle;\n",
       "    }\n",
       "\n",
       "    .dataframe tbody tr th {\n",
       "        vertical-align: top;\n",
       "    }\n",
       "\n",
       "    .dataframe thead th {\n",
       "        text-align: right;\n",
       "    }\n",
       "</style>\n",
       "<table border=\"1\" class=\"dataframe\">\n",
       "  <thead>\n",
       "    <tr style=\"text-align: right;\">\n",
       "      <th></th>\n",
       "      <th>dc:identifiers</th>\n",
       "      <th>@auid</th>\n",
       "      <th>@afids</th>\n",
       "      <th>ce:indexed-name</th>\n",
       "    </tr>\n",
       "  </thead>\n",
       "  <tbody>\n",
       "    <tr>\n",
       "      <th>10805</th>\n",
       "      <td>SCOPUS_ID:84961134992</td>\n",
       "      <td>56656653900</td>\n",
       "      <td>60110764</td>\n",
       "      <td>Rageot M.</td>\n",
       "    </tr>\n",
       "    <tr>\n",
       "      <th>10806</th>\n",
       "      <td>SCOPUS_ID:84961134992</td>\n",
       "      <td>56656653900</td>\n",
       "      <td>60110763</td>\n",
       "      <td>Rageot M.</td>\n",
       "    </tr>\n",
       "    <tr>\n",
       "      <th>10807</th>\n",
       "      <td>SCOPUS_ID:84961134992</td>\n",
       "      <td>6603126272</td>\n",
       "      <td>60110764</td>\n",
       "      <td>Regert M.</td>\n",
       "    </tr>\n",
       "    <tr>\n",
       "      <th>10808</th>\n",
       "      <td>SCOPUS_ID:84961134992</td>\n",
       "      <td>7003877322</td>\n",
       "      <td>60110763</td>\n",
       "      <td>Filippi J.J.</td>\n",
       "    </tr>\n",
       "    <tr>\n",
       "      <th>10809</th>\n",
       "      <td>SCOPUS_ID:84961134992</td>\n",
       "      <td>7004449219</td>\n",
       "      <td>60110763</td>\n",
       "      <td>Fernandez X.</td>\n",
       "    </tr>\n",
       "  </tbody>\n",
       "</table>\n",
       "</div>"
      ],
      "text/plain": [
       "              dc:identifiers        @auid    @afids ce:indexed-name\n",
       "10805  SCOPUS_ID:84961134992  56656653900  60110764       Rageot M.\n",
       "10806  SCOPUS_ID:84961134992  56656653900  60110763       Rageot M.\n",
       "10807  SCOPUS_ID:84961134992   6603126272  60110764       Regert M.\n",
       "10808  SCOPUS_ID:84961134992   7003877322  60110763    Filippi J.J.\n",
       "10809  SCOPUS_ID:84961134992   7004449219  60110763    Fernandez X."
      ]
     },
     "execution_count": 4,
     "metadata": {},
     "output_type": "execute_result"
    }
   ],
   "source": [
    "df[df[\"dc:identifiers\"] == \"SCOPUS_ID:84961134992\"][[\"dc:identifiers\",\"@auid\",\"@afids\",\"ce:indexed-name\"]]"
   ]
  },
  {
   "cell_type": "markdown",
   "metadata": {},
   "source": [
    "### Vérif affiliations à ajouter"
   ]
  },
  {
   "cell_type": "code",
   "execution_count": 19,
   "metadata": {},
   "outputs": [],
   "source": [
    "data = df[[\"dc:identifiers\",\"prism:doi\",\"reference\",\"annee_pub\",\"@afids\",\"mentionAffil_reconstruct\",\"@auid\",\"ce:indexed-name\",\"corresponding_author\",\"Is_dc:creator\"]]\n",
    "data.columns = ['source_id', 'doi',\"scopus_title\",'year', 'aff_scopus_id','aff_source_text','author_id','author_name','corresponding_author','creator_author']\n",
    "df_authors = data.groupby('source_id')['author_name'].apply(list).reset_index(name='all_authors')\n",
    "df_authors['all_authors'] = df_authors[\"all_authors\"].apply('|'.join)\n",
    "df_reference_data = pd.merge(data,df_authors, left_on='source_id', right_on='source_id')"
   ]
  },
  {
   "cell_type": "code",
   "execution_count": 18,
   "metadata": {},
   "outputs": [
    {
     "data": {
      "text/plain": [
       "{'0', 'temp_008', 'temp_009'}"
      ]
     },
     "execution_count": 18,
     "metadata": {},
     "output_type": "execute_result"
    }
   ],
   "source": [
    "df_affiliations = pd.read_json('03_primary/referentiel_structures.json')\n",
    "set_affiliations_id = set(df_affiliations['affiliation_id'].tolist())\n",
    "set_data_affiliations_id = set(df_reference_data['aff_scopus_id'].unique().tolist())\n",
    "diff = set_affiliations_id.union(set_data_affiliations_id)  - set_affiliations_id.intersection(set_data_affiliations_id) \n",
    "diff"
   ]
  },
  {
   "cell_type": "markdown",
   "metadata": {},
   "source": [
    "### Si diff != 1"
   ]
  },
  {
   "cell_type": "code",
   "execution_count": 20,
   "metadata": {},
   "outputs": [
    {
     "data": {
      "text/plain": [
       "18258    MajuLab, CNRS, Université de Nice, NUS-NTU Int...\n",
       "19714    MajuLab., CNRS-Université Nice Sophia Antipoli...\n",
       "23787    MajuLab, CNRS, Université de Nice, NUS-NTU Int...\n",
       "23788    MajuLab, CNRS, Université de Nice, NUS-NTU Int...\n",
       "23885    MajuLab, CNRS-UNS-NUS-NTU, Université Côte d'A...\n",
       "                               ...                        \n",
       "42604    MajuLab, International Joint Research Unit IRL...\n",
       "42951    MajuLab, International Joint Research Unit IRL...\n",
       "42952    MajuLab, International Joint Research Unit IRL...\n",
       "42991    MajuLab, International Joint Research Unit UMI...\n",
       "43302    CRHEA-CNRS, Rue Bernard Gregory| MajuLab, Inte...\n",
       "Name: mentionAffil_reconstruct, Length: 104, dtype: object"
      ]
     },
     "execution_count": 20,
     "metadata": {},
     "output_type": "execute_result"
    }
   ],
   "source": [
    "#exemple pour retrouver le libellé d'un aff_scopus_id\n",
    "df[df[\"@afids\"] == \"temp_009\"].mentionAffil_reconstruct"
   ]
  },
  {
   "cell_type": "markdown",
   "metadata": {},
   "source": [
    "- Ajouter à la main les nouvelles structures 03_primary/referentiel_structures.json\n",
    "- Compléter avec les ids trouvés (Hal, Idref...)\n",
    "- Incrémenter le champ id\n",
    "- Vérifier le parent_id\n",
    "- Mettre le nb documents_count à 0"
   ]
  },
  {
   "cell_type": "markdown",
   "metadata": {},
   "source": [
    "### Vérifs éditeurs à ajouter"
   ]
  },
  {
   "cell_type": "code",
   "execution_count": 27,
   "metadata": {},
   "outputs": [],
   "source": [
    "def keep_duplicate (row):\n",
    "    return row[\"author_name\"] +\"|\" + row[\"affiliation_name\"]\n",
    "crfprefix_base_url = \"https://api.crossref.org/v1/prefixes/\"\n",
    "def crf_publisher_metadata(prefix):\n",
    "    \"\"\"Get the homogeneous publisher's name from a prefix doi\"\"\"\n",
    "    if prefix is None:\n",
    "        raise ValueError('prefix cannot be None')\n",
    "    result = {}\n",
    "    result[\"prefix\"] = prefix\n",
    "    try:\n",
    "        requests.get(crfprefix_base_url+str(prefix))\n",
    "        if requests.get(crfprefix_base_url+str(prefix)).status_code == 200:\n",
    "            response = requests.get(crfprefix_base_url+str(prefix)).text\n",
    "            result[\"publisher_by_doiprefix\"] = json.loads(response).get(\"message\")[\"name\"]\n",
    "        else:\n",
    "            pass\n",
    "    except:\n",
    "        pass\n",
    "    return result\n",
    "\n",
    "def crf_publisher_retrieval(doiprefix_list):\n",
    "    \"\"\"Request function crf_publisher_metadata from a list of doi prefixs and compile in a dataframe\"\"\"\n",
    "    df_result = pd.DataFrame(crf_publisher_metadata(i) for i in doiprefix_list)\n",
    "    return df_result[df_result[\"prefix\"].notna()]"
   ]
  },
  {
   "cell_type": "code",
   "execution_count": 21,
   "metadata": {},
   "outputs": [],
   "source": [
    "df_affiliations = pd.read_json('03_primary/referentiel_structures.json')"
   ]
  },
  {
   "cell_type": "code",
   "execution_count": 22,
   "metadata": {},
   "outputs": [],
   "source": [
    "df_affiliations[\"affiliation_id\"] = df_affiliations[\"affiliation_id\"].astype('str')\n",
    "df_reference_data[\"aff_scopus_id\"] = df_reference_data[\"aff_scopus_id\"].astype('str')\n",
    "publis_all_with_affiliations_data = pd.merge(df_reference_data,df_affiliations[df_affiliations[\"affiliation_id\"].notna()], left_on='aff_scopus_id', right_on='affiliation_id',how=\"left\").drop(columns=['affiliation_id','documents_count','ppn_valide','affcourt_valide','RNSR','VIAF','ISNI','BNF','HAL'])\n",
    "publis_all_with_affiliations_data = publis_all_with_affiliations_data.rename(columns={'id': 'aff_internal_id', 'parent_id': 'aff_parent_id'})\n",
    "# identify corresponding author if UCA\n",
    "publis_all_with_affiliations_data[\"corresponding\"] = publis_all_with_affiliations_data[publis_all_with_affiliations_data[\"corresponding_author\"] == \"oui\"].apply (lambda row: keep_duplicate(row), axis=1)"
   ]
  },
  {
   "cell_type": "code",
   "execution_count": 23,
   "metadata": {},
   "outputs": [],
   "source": [
    "publis_all_with_affiliations_data[\"corresponding_author\"] = publis_all_with_affiliations_data[\"corresponding_author\"].astype('category')\n",
    "publis_all_with_affiliations_data[\"corresponding_author\"] = publis_all_with_affiliations_data[\"corresponding_author\"].cat.set_categories(['oui', 'non', 'corr absent pour cette publi'], ordered=True)\n",
    "publis_all_with_affiliations_data.sort_values(by=['doi', 'corresponding_author'])\n",
    "publis_uniques_doi_data = publis_all_with_affiliations_data[publis_all_with_affiliations_data.doi.notna()].drop_duplicates(subset=['doi'], keep='first')[[\"source_id\",\"doi\",\"year\",\"corresponding\",\"all_authors\"]]\n",
    "publis_uniques_doi_data = publis_uniques_doi_data[publis_uniques_doi_data.year < int(corpus_end_year)]"
   ]
  },
  {
   "cell_type": "code",
   "execution_count": 24,
   "metadata": {},
   "outputs": [
    {
     "data": {
      "text/plain": [
       "['10.5220',\n",
       " '10.7150',\n",
       " '10.22564',\n",
       " '10.17396',\n",
       " '10.1210',\n",
       " '10.1200',\n",
       " '10.21630',\n",
       " '10.3390',\n",
       " '10.1130',\n",
       " '10.5210',\n",
       " '10.25537',\n",
       " '10.25428',\n",
       " '10.9876',\n",
       " '10.14601',\n",
       " '10.24820',\n",
       " '10.30549',\n",
       " '10.22201',\n",
       " '10.5441',\n",
       " '10.3750',\n",
       " '10.1070',\n",
       " '10.2383',\n",
       " '10.2110',\n",
       " '10.5840',\n",
       " '10.6092',\n",
       " '10.1590',\n",
       " '10.5277',\n",
       " '10.14658',\n",
       " '10.1080',\n",
       " '10.21409',\n",
       " '10.13128',\n",
       " '10.2340',\n",
       " '10.2423',\n",
       " '10.1190',\n",
       " '10.3150',\n",
       " '10.1439',\n",
       " '10.24310',\n",
       " '10.1680',\n",
       " '10.19272',\n",
       " '10.11936',\n",
       " '10.5278',\n",
       " '10.20960',\n",
       " '10.35470',\n",
       " '10.14649',\n",
       " '10.57',\n",
       " '10.1160',\n",
       " '10.11909',\n",
       " '10.2312',\n",
       " '10.26331',\n",
       " '10.4310',\n",
       " '10.4418',\n",
       " '10.1482',\n",
       " '10.26028',\n",
       " '10.31009',\n",
       " '10.7410',\n",
       " '10.48611',\n",
       " '10.34190',\n",
       " '10.1530',\n",
       " '10.1140',\n",
       " '10.13130',\n",
       " '10.4230',\n",
       " '10.3240',\n",
       " '10.32473',\n",
       " '10.3290',\n",
       " '10.21411',\n",
       " '10.17660',\n",
       " '10.4454',\n",
       " '10.1090',\n",
       " '10.24840',\n",
       " '10.3850',\n",
       " '10.4000',\n",
       " '10.2140']"
      ]
     },
     "execution_count": 24,
     "metadata": {},
     "output_type": "execute_result"
    }
   ],
   "source": [
    "new_prefix_list = list(set([item.partition(\"/\")[0] for item in publis_uniques_doi_data[\"doi\"].to_list()]))\n",
    "old_prefix_df = pd.read_csv('03_primary/mapping_doiprefixes_publisher.csv', sep=\",\",encoding='utf8')\n",
    "old_prefix_list = old_prefix_df[\"prefix\"].astype(str).to_list()\n",
    "diff_prefix_list = list(set(new_prefix_list) - set(old_prefix_list))\n",
    "diff_prefix_list"
   ]
  },
  {
   "cell_type": "code",
   "execution_count": 28,
   "metadata": {},
   "outputs": [],
   "source": [
    "df_new_prefix_result = crf_publisher_retrieval(diff_prefix_list)\n",
    "publishers_doi_prefix = old_prefix_df.append(df_new_prefix_result)"
   ]
  },
  {
   "cell_type": "code",
   "execution_count": 29,
   "metadata": {},
   "outputs": [
    {
     "data": {
      "text/html": [
       "<div>\n",
       "<style scoped>\n",
       "    .dataframe tbody tr th:only-of-type {\n",
       "        vertical-align: middle;\n",
       "    }\n",
       "\n",
       "    .dataframe tbody tr th {\n",
       "        vertical-align: top;\n",
       "    }\n",
       "\n",
       "    .dataframe thead th {\n",
       "        text-align: right;\n",
       "    }\n",
       "</style>\n",
       "<table border=\"1\" class=\"dataframe\">\n",
       "  <thead>\n",
       "    <tr style=\"text-align: right;\">\n",
       "      <th></th>\n",
       "      <th>prefix</th>\n",
       "      <th>publisher_by_doiprefix</th>\n",
       "    </tr>\n",
       "  </thead>\n",
       "  <tbody>\n",
       "    <tr>\n",
       "      <th>0</th>\n",
       "      <td>10.21873</td>\n",
       "      <td>Anticancer Research USA Inc.</td>\n",
       "    </tr>\n",
       "    <tr>\n",
       "      <th>1</th>\n",
       "      <td>10.1119</td>\n",
       "      <td>American Association of Physics Teachers (AAPT)</td>\n",
       "    </tr>\n",
       "    <tr>\n",
       "      <th>2</th>\n",
       "      <td>10.2166</td>\n",
       "      <td>IWA Publishing</td>\n",
       "    </tr>\n",
       "    <tr>\n",
       "      <th>3</th>\n",
       "      <td>10.1177</td>\n",
       "      <td>SAGE Publications</td>\n",
       "    </tr>\n",
       "    <tr>\n",
       "      <th>4</th>\n",
       "      <td>10.4081</td>\n",
       "      <td>PAGEPress Publications</td>\n",
       "    </tr>\n",
       "    <tr>\n",
       "      <th>...</th>\n",
       "      <td>...</td>\n",
       "      <td>...</td>\n",
       "    </tr>\n",
       "    <tr>\n",
       "      <th>66</th>\n",
       "      <td>10.1090</td>\n",
       "      <td>American Mathematical Society (AMS)</td>\n",
       "    </tr>\n",
       "    <tr>\n",
       "      <th>67</th>\n",
       "      <td>10.24840</td>\n",
       "      <td>University of Porto</td>\n",
       "    </tr>\n",
       "    <tr>\n",
       "      <th>68</th>\n",
       "      <td>10.3850</td>\n",
       "      <td>Research Publishing Services</td>\n",
       "    </tr>\n",
       "    <tr>\n",
       "      <th>69</th>\n",
       "      <td>10.4000</td>\n",
       "      <td>NaN</td>\n",
       "    </tr>\n",
       "    <tr>\n",
       "      <th>70</th>\n",
       "      <td>10.2140</td>\n",
       "      <td>NaN</td>\n",
       "    </tr>\n",
       "  </tbody>\n",
       "</table>\n",
       "<p>439 rows × 2 columns</p>\n",
       "</div>"
      ],
      "text/plain": [
       "      prefix                           publisher_by_doiprefix\n",
       "0   10.21873                     Anticancer Research USA Inc.\n",
       "1    10.1119  American Association of Physics Teachers (AAPT)\n",
       "2    10.2166                                   IWA Publishing\n",
       "3    10.1177                                SAGE Publications\n",
       "4    10.4081                           PAGEPress Publications\n",
       "..       ...                                              ...\n",
       "66   10.1090              American Mathematical Society (AMS)\n",
       "67  10.24840                              University of Porto\n",
       "68   10.3850                     Research Publishing Services\n",
       "69   10.4000                                              NaN\n",
       "70   10.2140                                              NaN\n",
       "\n",
       "[439 rows x 2 columns]"
      ]
     },
     "execution_count": 29,
     "metadata": {},
     "output_type": "execute_result"
    }
   ],
   "source": [
    "publishers_doi_prefix"
   ]
  },
  {
   "cell_type": "code",
   "execution_count": 30,
   "metadata": {},
   "outputs": [],
   "source": [
    "publishers_doi_prefix.drop_duplicates(subset=['prefix'], keep='last').to_csv('03_primary/mapping_doiprefixes_publisher.csv', index = False,encoding='utf8')"
   ]
  },
  {
   "cell_type": "markdown",
   "metadata": {},
   "source": [
    "## Divers"
   ]
  },
  {
   "cell_type": "code",
   "execution_count": 3,
   "metadata": {},
   "outputs": [
    {
     "name": "stderr",
     "output_type": "stream",
     "text": [
      "[nltk_data] Downloading package stopwords to\n",
      "[nltk_data]     C:\\Users\\geoffroy\\AppData\\Roaming\\nltk_data...\n",
      "[nltk_data]   Package stopwords is already up-to-date!\n",
      "[nltk_data] Downloading package wordnet to\n",
      "[nltk_data]     C:\\Users\\geoffroy\\AppData\\Roaming\\nltk_data...\n",
      "[nltk_data]   Package wordnet is already up-to-date!\n",
      "[nltk_data] Downloading package omw-1.4 to\n",
      "[nltk_data]     C:\\Users\\geoffroy\\AppData\\Roaming\\nltk_data...\n",
      "[nltk_data]   Package omw-1.4 is already up-to-date!\n"
     ]
    }
   ],
   "source": [
    "import pickle\n",
    "import joblib\n",
    "import helpers.bso_classification_harvest as bso"
   ]
  },
  {
   "cell_type": "code",
   "execution_count": 27,
   "metadata": {},
   "outputs": [
    {
     "name": "stderr",
     "output_type": "stream",
     "text": [
      "[nltk_data] Downloading package stopwords to\n",
      "[nltk_data]     C:\\Users\\geoffroy\\AppData\\Roaming\\nltk_data...\n",
      "[nltk_data]   Package stopwords is already up-to-date!\n",
      "[nltk_data] Downloading package wordnet to\n",
      "[nltk_data]     C:\\Users\\geoffroy\\AppData\\Roaming\\nltk_data...\n",
      "[nltk_data]   Package wordnet is already up-to-date!\n",
      "[nltk_data] Downloading package omw-1.4 to\n",
      "[nltk_data]     C:\\Users\\geoffroy\\AppData\\Roaming\\nltk_data...\n",
      "[nltk_data]   Package omw-1.4 is already up-to-date!\n"
     ]
    },
    {
     "data": {
      "text/plain": [
       "<module 'helpers.bso_classification_harvest' from 'c:\\\\Users\\\\geoffroy\\\\Docker\\\\dagster\\\\app\\\\bso_publis_scopus\\\\helpers\\\\bso_classification_harvest.py'>"
      ]
     },
     "execution_count": 27,
     "metadata": {},
     "output_type": "execute_result"
    }
   ],
   "source": [
    "import importlib\n",
    "importlib.reload(bso)"
   ]
  },
  {
   "cell_type": "code",
   "execution_count": 4,
   "metadata": {},
   "outputs": [
    {
     "name": "stderr",
     "output_type": "stream",
     "text": [
      "C:\\Users\\geoffroy\\AppData\\Local\\Temp\\ipykernel_8484\\2167318211.py:1: DtypeWarning: Columns (0,3,4,5,6,11,12,16,17,18,19,20,21,22,23,24,25,26,27,28) have mixed types. Specify dtype option on import or set low_memory=False.\n",
      "  mesri_bso_dataset = pd.read_csv('https://storage.gra.cloud.ovh.net/v1/AUTH_32c5d10cb0fe4519b957064a111717e3/bso_dump/bso-publications-latest.csv.gz',compression='gzip',encoding='utf8').convert_dtypes()\n"
     ]
    }
   ],
   "source": [
    "mesri_bso_dataset = pd.read_csv('https://storage.gra.cloud.ovh.net/v1/AUTH_32c5d10cb0fe4519b957064a111717e3/bso_dump/bso-publications-latest.csv.gz',compression='gzip',encoding='utf8').convert_dtypes()"
   ]
  },
  {
   "cell_type": "code",
   "execution_count": 5,
   "metadata": {},
   "outputs": [],
   "source": [
    "publis_uniques_doi_oa_data = pd.read_csv(f'03_primary/{observation_date}/publis_uniques_doi_oa_data.csv', sep=\",\", encoding=\"utf-8\")"
   ]
  },
  {
   "cell_type": "code",
   "execution_count": 6,
   "metadata": {},
   "outputs": [
    {
     "name": "stderr",
     "output_type": "stream",
     "text": [
      "c:\\Users\\geoffroy\\Docker\\dagster\\venv_dagster\\lib\\site-packages\\sklearn\\base.py:329: UserWarning: Trying to unpickle estimator CountVectorizer from version 1.0.2 when using version 1.1.2. This might lead to breaking code or invalid results. Use at your own risk. For more info please refer to:\n",
      "https://scikit-learn.org/stable/model_persistence.html#security-maintainability-limitations\n",
      "  warnings.warn(\n"
     ]
    }
   ],
   "source": [
    "countvect_model = pickle.load(open('06_models/count_vect.pkl', 'rb'))"
   ]
  },
  {
   "cell_type": "code",
   "execution_count": 7,
   "metadata": {},
   "outputs": [
    {
     "name": "stderr",
     "output_type": "stream",
     "text": [
      "c:\\Users\\geoffroy\\Docker\\dagster\\venv_dagster\\lib\\site-packages\\sklearn\\base.py:329: UserWarning: Trying to unpickle estimator LogisticRegression from version 1.0.2 when using version 1.1.2. This might lead to breaking code or invalid results. Use at your own risk. For more info please refer to:\n",
      "https://scikit-learn.org/stable/model_persistence.html#security-maintainability-limitations\n",
      "  warnings.warn(\n"
     ]
    }
   ],
   "source": [
    "logmodel = joblib.load('06_models/logmodel.joblib')"
   ]
  },
  {
   "cell_type": "code",
   "execution_count": 8,
   "metadata": {},
   "outputs": [
    {
     "name": "stderr",
     "output_type": "stream",
     "text": [
      "C:\\Users\\geoffroy\\AppData\\Local\\Temp\\ipykernel_8484\\2861890832.py:3: SettingWithCopyWarning: \n",
      "A value is trying to be set on a copy of a slice from a DataFrame.\n",
      "Try using .loc[row_indexer,col_indexer] = value instead\n",
      "\n",
      "See the caveats in the documentation: https://pandas.pydata.org/pandas-docs/stable/user_guide/indexing.html#returning-a-view-versus-a-copy\n",
      "  temp[\"bso_classification\"] = np.nan\n",
      "C:\\Users\\geoffroy\\AppData\\Local\\Temp\\ipykernel_8484\\2861890832.py:7: SettingWithCopyWarning: \n",
      "A value is trying to be set on a copy of a slice from a DataFrame.\n",
      "Try using .loc[row_indexer,col_indexer] = value instead\n",
      "\n",
      "See the caveats in the documentation: https://pandas.pydata.org/pandas-docs/stable/user_guide/indexing.html#returning-a-view-versus-a-copy\n",
      "  temp.loc[temp[col].isin(mesri_bso_dataset[col]), cols_to_replace] = mesri_bso_dataset.loc[mesri_bso_dataset[col].isin(temp[col]),cols_to_replace].values\n"
     ]
    }
   ],
   "source": [
    "temp = publis_uniques_doi_oa_data[[\"doi\",\"year\",\"title\",\"journal_name\",\"publisher\"]]\n",
    "#2ème étape : on ajoute une col \n",
    "temp[\"bso_classification\"] = np.nan\n",
    "#3ème étape : on récupère la bso_classification du mesri pour les doi présents\n",
    "col = 'doi'\n",
    "cols_to_replace = ['bso_classification']\n",
    "temp.loc[temp[col].isin(mesri_bso_dataset[col]), cols_to_replace] = mesri_bso_dataset.loc[mesri_bso_dataset[col].isin(temp[col]),cols_to_replace].values"
   ]
  },
  {
   "cell_type": "code",
   "execution_count": 9,
   "metadata": {},
   "outputs": [],
   "source": [
    "temp1 = temp[(temp.bso_classification.isna()) & (temp.title.notna()) & (temp.publisher.notna()) & (temp.journal_name.notna())]"
   ]
  },
  {
   "cell_type": "code",
   "execution_count": 16,
   "metadata": {},
   "outputs": [
    {
     "data": {
      "text/plain": [
       "(3467, 22)"
      ]
     },
     "execution_count": 16,
     "metadata": {},
     "output_type": "execute_result"
    }
   ],
   "source": [
    "temp1.shape"
   ]
  },
  {
   "cell_type": "code",
   "execution_count": 10,
   "metadata": {},
   "outputs": [
    {
     "name": "stderr",
     "output_type": "stream",
     "text": [
      "c:\\Users\\geoffroy\\Docker\\dagster\\app\\bso_publis_scopus\\helpers\\bso_classification_harvest.py:39: FutureWarning: The default value of regex will change from True to False in a future version.\n",
      "  df[i] = df[i].str.replace('\\d+', '')\n",
      "c:\\Users\\geoffroy\\Docker\\dagster\\app\\bso_publis_scopus\\helpers\\bso_classification_harvest.py:39: SettingWithCopyWarning: \n",
      "A value is trying to be set on a copy of a slice from a DataFrame.\n",
      "Try using .loc[row_indexer,col_indexer] = value instead\n",
      "\n",
      "See the caveats in the documentation: https://pandas.pydata.org/pandas-docs/stable/user_guide/indexing.html#returning-a-view-versus-a-copy\n",
      "  df[i] = df[i].str.replace('\\d+', '')\n",
      "c:\\Users\\geoffroy\\Docker\\dagster\\app\\bso_publis_scopus\\helpers\\bso_classification_harvest.py:30: SettingWithCopyWarning: \n",
      "A value is trying to be set on a copy of a slice from a DataFrame.\n",
      "Try using .loc[row_indexer,col_indexer] = value instead\n",
      "\n",
      "See the caveats in the documentation: https://pandas.pydata.org/pandas-docs/stable/user_guide/indexing.html#returning-a-view-versus-a-copy\n",
      "  df[f\"{col}_lower\"] = df.apply(lambda row: to_lower(row,col),axis=1)\n",
      "c:\\Users\\geoffroy\\Docker\\dagster\\app\\bso_publis_scopus\\helpers\\bso_classification_harvest.py:31: SettingWithCopyWarning: \n",
      "A value is trying to be set on a copy of a slice from a DataFrame.\n",
      "Try using .loc[row_indexer,col_indexer] = value instead\n",
      "\n",
      "See the caveats in the documentation: https://pandas.pydata.org/pandas-docs/stable/user_guide/indexing.html#returning-a-view-versus-a-copy\n",
      "  df[f'{col}_lower_stop_words'] = df[f'{col}_lower'].apply(lambda x: ' '.join([word for word in x.split() if word not in (stop_en)]))\n",
      "c:\\Users\\geoffroy\\Docker\\dagster\\app\\bso_publis_scopus\\helpers\\bso_classification_harvest.py:32: SettingWithCopyWarning: \n",
      "A value is trying to be set on a copy of a slice from a DataFrame.\n",
      "Try using .loc[row_indexer,col_indexer] = value instead\n",
      "\n",
      "See the caveats in the documentation: https://pandas.pydata.org/pandas-docs/stable/user_guide/indexing.html#returning-a-view-versus-a-copy\n",
      "  df[f'{col}_lower_stop_words_token'] = df.apply(lambda row: tokenize(row,col),axis=1)\n",
      "c:\\Users\\geoffroy\\Docker\\dagster\\app\\bso_publis_scopus\\helpers\\bso_classification_harvest.py:33: SettingWithCopyWarning: \n",
      "A value is trying to be set on a copy of a slice from a DataFrame.\n",
      "Try using .loc[row_indexer,col_indexer] = value instead\n",
      "\n",
      "See the caveats in the documentation: https://pandas.pydata.org/pandas-docs/stable/user_guide/indexing.html#returning-a-view-versus-a-copy\n",
      "  df[f'{col}_lower_stop_words_token_lemme'] = df.apply(lambda row: lemmatize(row,col),axis=1)\n",
      "c:\\Users\\geoffroy\\Docker\\dagster\\app\\bso_publis_scopus\\helpers\\bso_classification_harvest.py:34: SettingWithCopyWarning: \n",
      "A value is trying to be set on a copy of a slice from a DataFrame.\n",
      "Try using .loc[row_indexer,col_indexer] = value instead\n",
      "\n",
      "See the caveats in the documentation: https://pandas.pydata.org/pandas-docs/stable/user_guide/indexing.html#returning-a-view-versus-a-copy\n",
      "  df[f'{col}_cleaned'] = df.apply(lambda row: list_to_string(row,col), axis=1)\n",
      "c:\\Users\\geoffroy\\Docker\\dagster\\app\\bso_publis_scopus\\helpers\\bso_classification_harvest.py:39: FutureWarning: The default value of regex will change from True to False in a future version.\n",
      "  df[i] = df[i].str.replace('\\d+', '')\n",
      "c:\\Users\\geoffroy\\Docker\\dagster\\app\\bso_publis_scopus\\helpers\\bso_classification_harvest.py:39: SettingWithCopyWarning: \n",
      "A value is trying to be set on a copy of a slice from a DataFrame.\n",
      "Try using .loc[row_indexer,col_indexer] = value instead\n",
      "\n",
      "See the caveats in the documentation: https://pandas.pydata.org/pandas-docs/stable/user_guide/indexing.html#returning-a-view-versus-a-copy\n",
      "  df[i] = df[i].str.replace('\\d+', '')\n",
      "c:\\Users\\geoffroy\\Docker\\dagster\\app\\bso_publis_scopus\\helpers\\bso_classification_harvest.py:30: SettingWithCopyWarning: \n",
      "A value is trying to be set on a copy of a slice from a DataFrame.\n",
      "Try using .loc[row_indexer,col_indexer] = value instead\n",
      "\n",
      "See the caveats in the documentation: https://pandas.pydata.org/pandas-docs/stable/user_guide/indexing.html#returning-a-view-versus-a-copy\n",
      "  df[f\"{col}_lower\"] = df.apply(lambda row: to_lower(row,col),axis=1)\n",
      "c:\\Users\\geoffroy\\Docker\\dagster\\app\\bso_publis_scopus\\helpers\\bso_classification_harvest.py:31: SettingWithCopyWarning: \n",
      "A value is trying to be set on a copy of a slice from a DataFrame.\n",
      "Try using .loc[row_indexer,col_indexer] = value instead\n",
      "\n",
      "See the caveats in the documentation: https://pandas.pydata.org/pandas-docs/stable/user_guide/indexing.html#returning-a-view-versus-a-copy\n",
      "  df[f'{col}_lower_stop_words'] = df[f'{col}_lower'].apply(lambda x: ' '.join([word for word in x.split() if word not in (stop_en)]))\n",
      "c:\\Users\\geoffroy\\Docker\\dagster\\app\\bso_publis_scopus\\helpers\\bso_classification_harvest.py:32: SettingWithCopyWarning: \n",
      "A value is trying to be set on a copy of a slice from a DataFrame.\n",
      "Try using .loc[row_indexer,col_indexer] = value instead\n",
      "\n",
      "See the caveats in the documentation: https://pandas.pydata.org/pandas-docs/stable/user_guide/indexing.html#returning-a-view-versus-a-copy\n",
      "  df[f'{col}_lower_stop_words_token'] = df.apply(lambda row: tokenize(row,col),axis=1)\n",
      "c:\\Users\\geoffroy\\Docker\\dagster\\app\\bso_publis_scopus\\helpers\\bso_classification_harvest.py:33: SettingWithCopyWarning: \n",
      "A value is trying to be set on a copy of a slice from a DataFrame.\n",
      "Try using .loc[row_indexer,col_indexer] = value instead\n",
      "\n",
      "See the caveats in the documentation: https://pandas.pydata.org/pandas-docs/stable/user_guide/indexing.html#returning-a-view-versus-a-copy\n",
      "  df[f'{col}_lower_stop_words_token_lemme'] = df.apply(lambda row: lemmatize(row,col),axis=1)\n",
      "c:\\Users\\geoffroy\\Docker\\dagster\\app\\bso_publis_scopus\\helpers\\bso_classification_harvest.py:34: SettingWithCopyWarning: \n",
      "A value is trying to be set on a copy of a slice from a DataFrame.\n",
      "Try using .loc[row_indexer,col_indexer] = value instead\n",
      "\n",
      "See the caveats in the documentation: https://pandas.pydata.org/pandas-docs/stable/user_guide/indexing.html#returning-a-view-versus-a-copy\n",
      "  df[f'{col}_cleaned'] = df.apply(lambda row: list_to_string(row,col), axis=1)\n",
      "c:\\Users\\geoffroy\\Docker\\dagster\\app\\bso_publis_scopus\\helpers\\bso_classification_harvest.py:39: FutureWarning: The default value of regex will change from True to False in a future version.\n",
      "  df[i] = df[i].str.replace('\\d+', '')\n",
      "c:\\Users\\geoffroy\\Docker\\dagster\\app\\bso_publis_scopus\\helpers\\bso_classification_harvest.py:39: SettingWithCopyWarning: \n",
      "A value is trying to be set on a copy of a slice from a DataFrame.\n",
      "Try using .loc[row_indexer,col_indexer] = value instead\n",
      "\n",
      "See the caveats in the documentation: https://pandas.pydata.org/pandas-docs/stable/user_guide/indexing.html#returning-a-view-versus-a-copy\n",
      "  df[i] = df[i].str.replace('\\d+', '')\n",
      "c:\\Users\\geoffroy\\Docker\\dagster\\app\\bso_publis_scopus\\helpers\\bso_classification_harvest.py:30: SettingWithCopyWarning: \n",
      "A value is trying to be set on a copy of a slice from a DataFrame.\n",
      "Try using .loc[row_indexer,col_indexer] = value instead\n",
      "\n",
      "See the caveats in the documentation: https://pandas.pydata.org/pandas-docs/stable/user_guide/indexing.html#returning-a-view-versus-a-copy\n",
      "  df[f\"{col}_lower\"] = df.apply(lambda row: to_lower(row,col),axis=1)\n",
      "c:\\Users\\geoffroy\\Docker\\dagster\\app\\bso_publis_scopus\\helpers\\bso_classification_harvest.py:31: SettingWithCopyWarning: \n",
      "A value is trying to be set on a copy of a slice from a DataFrame.\n",
      "Try using .loc[row_indexer,col_indexer] = value instead\n",
      "\n",
      "See the caveats in the documentation: https://pandas.pydata.org/pandas-docs/stable/user_guide/indexing.html#returning-a-view-versus-a-copy\n",
      "  df[f'{col}_lower_stop_words'] = df[f'{col}_lower'].apply(lambda x: ' '.join([word for word in x.split() if word not in (stop_en)]))\n",
      "c:\\Users\\geoffroy\\Docker\\dagster\\app\\bso_publis_scopus\\helpers\\bso_classification_harvest.py:32: SettingWithCopyWarning: \n",
      "A value is trying to be set on a copy of a slice from a DataFrame.\n",
      "Try using .loc[row_indexer,col_indexer] = value instead\n",
      "\n",
      "See the caveats in the documentation: https://pandas.pydata.org/pandas-docs/stable/user_guide/indexing.html#returning-a-view-versus-a-copy\n",
      "  df[f'{col}_lower_stop_words_token'] = df.apply(lambda row: tokenize(row,col),axis=1)\n",
      "c:\\Users\\geoffroy\\Docker\\dagster\\app\\bso_publis_scopus\\helpers\\bso_classification_harvest.py:33: SettingWithCopyWarning: \n",
      "A value is trying to be set on a copy of a slice from a DataFrame.\n",
      "Try using .loc[row_indexer,col_indexer] = value instead\n",
      "\n",
      "See the caveats in the documentation: https://pandas.pydata.org/pandas-docs/stable/user_guide/indexing.html#returning-a-view-versus-a-copy\n",
      "  df[f'{col}_lower_stop_words_token_lemme'] = df.apply(lambda row: lemmatize(row,col),axis=1)\n",
      "c:\\Users\\geoffroy\\Docker\\dagster\\app\\bso_publis_scopus\\helpers\\bso_classification_harvest.py:34: SettingWithCopyWarning: \n",
      "A value is trying to be set on a copy of a slice from a DataFrame.\n",
      "Try using .loc[row_indexer,col_indexer] = value instead\n",
      "\n",
      "See the caveats in the documentation: https://pandas.pydata.org/pandas-docs/stable/user_guide/indexing.html#returning-a-view-versus-a-copy\n",
      "  df[f'{col}_cleaned'] = df.apply(lambda row: list_to_string(row,col), axis=1)\n"
     ]
    }
   ],
   "source": [
    "temp2 = bso.nlp_transform(temp1)"
   ]
  },
  {
   "cell_type": "code",
   "execution_count": 11,
   "metadata": {},
   "outputs": [
    {
     "name": "stderr",
     "output_type": "stream",
     "text": [
      "C:\\Users\\geoffroy\\AppData\\Local\\Temp\\ipykernel_8484\\3154202690.py:1: SettingWithCopyWarning: \n",
      "A value is trying to be set on a copy of a slice from a DataFrame.\n",
      "Try using .loc[row_indexer,col_indexer] = value instead\n",
      "\n",
      "See the caveats in the documentation: https://pandas.pydata.org/pandas-docs/stable/user_guide/indexing.html#returning-a-view-versus-a-copy\n",
      "  temp2[\"features_union\"] = temp2[\"title_cleaned\"] + ' '  +  temp2[\"journal_name_cleaned\"] + ' '  +  temp2[\"publisher_cleaned\"] + ' '  +  temp2[\"year\"].astype(str)\n"
     ]
    }
   ],
   "source": [
    "temp2[\"features_union\"] = temp2[\"title_cleaned\"] + ' '  +  temp2[\"journal_name_cleaned\"] + ' '  +  temp2[\"publisher_cleaned\"] + ' '  +  temp2[\"year\"].astype(str)"
   ]
  },
  {
   "cell_type": "code",
   "execution_count": 12,
   "metadata": {},
   "outputs": [],
   "source": [
    "bso_classes = {0: 'Biology (fond.)', 1: 'Chemistry', 2: 'Computer and information sciences', 3: 'Earth, Ecology, Energy and applied biology', 4: 'Engineering',5: 'Humanities', 6: 'Mathematics', 7: 'Medical research', 8: 'Physical sciences, Astronomy', 9: 'Social sciences'} "
   ]
  },
  {
   "cell_type": "code",
   "execution_count": 13,
   "metadata": {},
   "outputs": [
    {
     "name": "stderr",
     "output_type": "stream",
     "text": [
      "C:\\Users\\geoffroy\\AppData\\Local\\Temp\\ipykernel_8484\\3128412806.py:1: SettingWithCopyWarning: \n",
      "A value is trying to be set on a copy of a slice from a DataFrame.\n",
      "Try using .loc[row_indexer,col_indexer] = value instead\n",
      "\n",
      "See the caveats in the documentation: https://pandas.pydata.org/pandas-docs/stable/user_guide/indexing.html#returning-a-view-versus-a-copy\n",
      "  temp2[\"bso_classification\"] = temp2.apply(lambda row: bso.to_bso_class_with_ml(row[\"features_union\"],bso_classes,countvect_model,logmodel),axis=1)\n"
     ]
    }
   ],
   "source": [
    "temp2[\"bso_classification\"] = temp2.apply(lambda row: bso.to_bso_class_with_ml(row[\"features_union\"],bso_classes,countvect_model,logmodel),axis=1)"
   ]
  },
  {
   "cell_type": "code",
   "execution_count": 36,
   "metadata": {},
   "outputs": [
    {
     "data": {
      "text/plain": [
       "2                                  Medical research\n",
       "9                                  Medical research\n",
       "33                     Physical sciences, Astronomy\n",
       "36                     Physical sciences, Astronomy\n",
       "45                     Physical sciences, Astronomy\n",
       "                            ...                    \n",
       "14562                                   Engineering\n",
       "14580    Earth, Ecology, Energy and applied biology\n",
       "14590                                   Engineering\n",
       "14601             Computer and information sciences\n",
       "14602                  Physical sciences, Astronomy\n",
       "Name: bso_classification, Length: 3467, dtype: object"
      ]
     },
     "execution_count": 36,
     "metadata": {},
     "output_type": "execute_result"
    }
   ],
   "source": [
    "temp2[\"bso_classification\"]"
   ]
  },
  {
   "cell_type": "code",
   "execution_count": 14,
   "metadata": {},
   "outputs": [],
   "source": [
    "temp.loc[temp[col].isin(temp2['doi']), ['bso_classification']] = temp2.loc[temp2['doi'].isin(temp['doi']),['bso_classification']].values"
   ]
  },
  {
   "cell_type": "code",
   "execution_count": 15,
   "metadata": {},
   "outputs": [
    {
     "data": {
      "text/plain": [
       "Medical research                                3486\n",
       "Physical sciences, Astronomy                    2498\n",
       "Biology (fond.)                                 2318\n",
       "Earth, Ecology, \\nEnergy and applied biology    1566\n",
       "Computer and information sciences                923\n",
       "Mathematics                                      821\n",
       "Computer and \\n information sciences             804\n",
       "Social sciences                                  535\n",
       "Humanities                                       459\n",
       "Earth, Ecology, Energy and applied biology       418\n",
       "Chemistry                                        410\n",
       "Engineering                                      322\n",
       "Name: bso_classification, dtype: int64"
      ]
     },
     "execution_count": 15,
     "metadata": {},
     "output_type": "execute_result"
    }
   ],
   "source": [
    "temp.bso_classification.value_counts()"
   ]
  },
  {
   "cell_type": "code",
   "execution_count": 17,
   "metadata": {},
   "outputs": [
    {
     "data": {
      "text/plain": [
       "(14607, 6)"
      ]
     },
     "execution_count": 17,
     "metadata": {},
     "output_type": "execute_result"
    }
   ],
   "source": [
    "temp.shape"
   ]
  },
  {
   "cell_type": "code",
   "execution_count": 24,
   "metadata": {},
   "outputs": [
    {
     "data": {
      "text/plain": [
       "Recherche médicale                                               3486\n",
       "Sciences physiques et astronomie                                 2498\n",
       "Biologie fondamentale                                            2318\n",
       "Sciences de la Terre, écologie, énergie et biologie appliquée    1984\n",
       "Informatique et sciences de l'information                        1727\n",
       "Mathématiques                                                     821\n",
       "Sciences sociales                                                 535\n",
       "Sciences humaines                                                 459\n",
       "Chimie                                                            410\n",
       "Ingénierie                                                        322\n",
       "Name: bso_classification_fr, dtype: int64"
      ]
     },
     "execution_count": 24,
     "metadata": {},
     "output_type": "execute_result"
    }
   ],
   "source": [
    "test_df = pd.read_csv(\"07_model_output/2022-08-29/publis_uniques_doi_oa_data_with_bsoclasses.csv\",sep=\",\",encoding=\"utf-8\")\n",
    "test_df.bso_classification_fr.value_counts()"
   ]
  },
  {
   "cell_type": "code",
   "execution_count": 20,
   "metadata": {},
   "outputs": [],
   "source": [
    "test_bso_classes = dict({0: 'Biology (fond.)', 1: 'Chemistry', 2: 'Computer and information sciences', 3: 'Earth, Ecology, Energy and applied biology', 4: 'Engineering',5: 'Humanities', 6: 'Mathematics', 7: 'Medical research', 8: 'Physical sciences, Astronomy', 9: 'Social sciences'})"
   ]
  },
  {
   "cell_type": "code",
   "execution_count": 21,
   "metadata": {},
   "outputs": [
    {
     "data": {
      "text/plain": [
       "'Medical research'"
      ]
     },
     "execution_count": 21,
     "metadata": {},
     "output_type": "execute_result"
    }
   ],
   "source": [
    "test_bso_classes[7]"
   ]
  },
  {
   "cell_type": "code",
   "execution_count": null,
   "metadata": {},
   "outputs": [],
   "source": []
  }
 ],
 "metadata": {
  "kernelspec": {
   "display_name": "Python 3 (ipykernel)",
   "language": "python",
   "name": "python3"
  },
  "language_info": {
   "codemirror_mode": {
    "name": "ipython",
    "version": 3
   },
   "file_extension": ".py",
   "mimetype": "text/x-python",
   "name": "python",
   "nbconvert_exporter": "python",
   "pygments_lexer": "ipython3",
   "version": "3.9.7"
  },
  "vscode": {
   "interpreter": {
    "hash": "ec3697ff3b07caedffa14bb81c754bc4f8352c817ace7c5f44729345d053b899"
   }
  }
 },
 "nbformat": 4,
 "nbformat_minor": 2
}
