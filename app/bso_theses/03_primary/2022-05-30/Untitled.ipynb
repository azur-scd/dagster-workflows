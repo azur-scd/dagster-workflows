{
 "cells": [
  {
   "cell_type": "code",
   "execution_count": 4,
   "id": "c6e50f73",
   "metadata": {},
   "outputs": [],
   "source": [
    "import pandas as pd\n",
    "import bamboolib as bam\n",
    "from sqlite3 import Error\n",
    "import sqlalchemy as sqla\n",
    "from pivottablejs import pivot_ui\n",
    "import plotly.express as px"
   ]
  },
  {
   "cell_type": "code",
   "execution_count": 11,
   "id": "5163fe13",
   "metadata": {},
   "outputs": [
    {
     "ename": "AttributeError",
     "evalue": "'MultiIndex' object has no attribute '_data'",
     "output_type": "error",
     "traceback": [
      "\u001b[0;31m---------------------------------------------------------------------------\u001b[0m",
      "\u001b[0;31mAttributeError\u001b[0m                            Traceback (most recent call last)",
      "Cell \u001b[0;32mIn[11], line 4\u001b[0m\n\u001b[1;32m      2\u001b[0m dbEngine\u001b[38;5;241m=\u001b[39msqla\u001b[38;5;241m.\u001b[39mcreate_engine(\u001b[38;5;124m'\u001b[39m\u001b[38;5;124msqlite:////home/docker/app/bso_theses/09_db/theses.db\u001b[39m\u001b[38;5;124m'\u001b[39m)\n\u001b[1;32m      3\u001b[0m df \u001b[38;5;241m=\u001b[39m pd\u001b[38;5;241m.\u001b[39mread_sql(\u001b[38;5;124mf\u001b[39m\u001b[38;5;124m'\u001b[39m\u001b[38;5;124mselect * from bso_theses_uca_20221017 where annee_civile_soutenance < 2022\u001b[39m\u001b[38;5;124m'\u001b[39m,dbEngine)\n\u001b[0;32m----> 4\u001b[0m d \u001b[38;5;241m=\u001b[39m \u001b[43mpd\u001b[49m\u001b[38;5;241;43m.\u001b[39;49m\u001b[43mDataFrame\u001b[49m\u001b[43m(\u001b[49m\u001b[43m{\u001b[49m\u001b[38;5;124;43m'\u001b[39;49m\u001b[38;5;124;43mdisc\u001b[39;49m\u001b[38;5;124;43m'\u001b[39;49m\u001b[43m:\u001b[49m\u001b[43m \u001b[49m\u001b[43mdf\u001b[49m\u001b[43m[\u001b[49m\u001b[43m[\u001b[49m\u001b[38;5;124;43m\"\u001b[39;49m\u001b[38;5;124;43moai_set_specs_0_regroup_label\u001b[39;49m\u001b[38;5;124;43m\"\u001b[39;49m\u001b[43m,\u001b[49m\u001b[38;5;124;43m\"\u001b[39;49m\u001b[38;5;124;43mhas_exist_embargo\u001b[39;49m\u001b[38;5;124;43m\"\u001b[39;49m\u001b[43m]\u001b[49m\u001b[43m]\u001b[49m\u001b[38;5;241;43m.\u001b[39;49m\u001b[43mvalue_counts\u001b[49m\u001b[43m(\u001b[49m\n\u001b[1;32m      5\u001b[0m \u001b[43m    \u001b[49m\u001b[43m)\u001b[49m\u001b[38;5;241;43m.\u001b[39;49m\u001b[43mindex\u001b[49m\u001b[43m,\u001b[49m\u001b[43m \u001b[49m\u001b[38;5;124;43m'\u001b[39;49m\u001b[38;5;124;43mcount\u001b[39;49m\u001b[38;5;124;43m'\u001b[39;49m\u001b[43m:\u001b[49m\u001b[43m \u001b[49m\u001b[43mdf\u001b[49m\u001b[43m[\u001b[49m\u001b[38;5;124;43m\"\u001b[39;49m\u001b[38;5;124;43moai_set_specs_0_regroup_label\u001b[39;49m\u001b[38;5;124;43m\"\u001b[39;49m\u001b[43m]\u001b[49m\u001b[38;5;241;43m.\u001b[39;49m\u001b[43mvalue_counts\u001b[49m\u001b[43m(\u001b[49m\u001b[43m)\u001b[49m\u001b[38;5;241;43m.\u001b[39;49m\u001b[43mvalues\u001b[49m\u001b[43m}\u001b[49m\u001b[43m)\u001b[49m\n\u001b[1;32m      6\u001b[0m d\n",
      "File \u001b[0;32m/opt/conda/lib/python3.8/site-packages/pandas/core/frame.py:663\u001b[0m, in \u001b[0;36mDataFrame.__init__\u001b[0;34m(self, data, index, columns, dtype, copy)\u001b[0m\n\u001b[1;32m    657\u001b[0m     mgr \u001b[38;5;241m=\u001b[39m \u001b[38;5;28mself\u001b[39m\u001b[38;5;241m.\u001b[39m_init_mgr(\n\u001b[1;32m    658\u001b[0m         data, axes\u001b[38;5;241m=\u001b[39m{\u001b[38;5;124m\"\u001b[39m\u001b[38;5;124mindex\u001b[39m\u001b[38;5;124m\"\u001b[39m: index, \u001b[38;5;124m\"\u001b[39m\u001b[38;5;124mcolumns\u001b[39m\u001b[38;5;124m\"\u001b[39m: columns}, dtype\u001b[38;5;241m=\u001b[39mdtype, copy\u001b[38;5;241m=\u001b[39mcopy\n\u001b[1;32m    659\u001b[0m     )\n\u001b[1;32m    661\u001b[0m \u001b[38;5;28;01melif\u001b[39;00m \u001b[38;5;28misinstance\u001b[39m(data, \u001b[38;5;28mdict\u001b[39m):\n\u001b[1;32m    662\u001b[0m     \u001b[38;5;66;03m# GH#38939 de facto copy defaults to False only in non-dict cases\u001b[39;00m\n\u001b[0;32m--> 663\u001b[0m     mgr \u001b[38;5;241m=\u001b[39m \u001b[43mdict_to_mgr\u001b[49m\u001b[43m(\u001b[49m\u001b[43mdata\u001b[49m\u001b[43m,\u001b[49m\u001b[43m \u001b[49m\u001b[43mindex\u001b[49m\u001b[43m,\u001b[49m\u001b[43m \u001b[49m\u001b[43mcolumns\u001b[49m\u001b[43m,\u001b[49m\u001b[43m \u001b[49m\u001b[43mdtype\u001b[49m\u001b[38;5;241;43m=\u001b[39;49m\u001b[43mdtype\u001b[49m\u001b[43m,\u001b[49m\u001b[43m \u001b[49m\u001b[43mcopy\u001b[49m\u001b[38;5;241;43m=\u001b[39;49m\u001b[43mcopy\u001b[49m\u001b[43m,\u001b[49m\u001b[43m \u001b[49m\u001b[43mtyp\u001b[49m\u001b[38;5;241;43m=\u001b[39;49m\u001b[43mmanager\u001b[49m\u001b[43m)\u001b[49m\n\u001b[1;32m    664\u001b[0m \u001b[38;5;28;01melif\u001b[39;00m \u001b[38;5;28misinstance\u001b[39m(data, ma\u001b[38;5;241m.\u001b[39mMaskedArray):\n\u001b[1;32m    665\u001b[0m     \u001b[38;5;28;01mimport\u001b[39;00m \u001b[38;5;21;01mnumpy\u001b[39;00m\u001b[38;5;21;01m.\u001b[39;00m\u001b[38;5;21;01mma\u001b[39;00m\u001b[38;5;21;01m.\u001b[39;00m\u001b[38;5;21;01mmrecords\u001b[39;00m \u001b[38;5;28;01mas\u001b[39;00m \u001b[38;5;21;01mmrecords\u001b[39;00m\n",
      "File \u001b[0;32m/opt/conda/lib/python3.8/site-packages/pandas/core/internals/construction.py:482\u001b[0m, in \u001b[0;36mdict_to_mgr\u001b[0;34m(data, index, columns, dtype, typ, copy)\u001b[0m\n\u001b[1;32m    480\u001b[0m     columns \u001b[38;5;241m=\u001b[39m Index(keys)\n\u001b[1;32m    481\u001b[0m     arrays \u001b[38;5;241m=\u001b[39m [com\u001b[38;5;241m.\u001b[39mmaybe_iterable_to_list(data[k]) \u001b[38;5;28;01mfor\u001b[39;00m k \u001b[38;5;129;01min\u001b[39;00m keys]\n\u001b[0;32m--> 482\u001b[0m     arrays \u001b[38;5;241m=\u001b[39m [arr \u001b[38;5;28;01mif\u001b[39;00m \u001b[38;5;129;01mnot\u001b[39;00m \u001b[38;5;28misinstance\u001b[39m(arr, Index) \u001b[38;5;28;01melse\u001b[39;00m arr\u001b[38;5;241m.\u001b[39m_data \u001b[38;5;28;01mfor\u001b[39;00m arr \u001b[38;5;129;01min\u001b[39;00m arrays]\n\u001b[1;32m    484\u001b[0m \u001b[38;5;28;01mif\u001b[39;00m copy:\n\u001b[1;32m    485\u001b[0m     \u001b[38;5;28;01mif\u001b[39;00m typ \u001b[38;5;241m==\u001b[39m \u001b[38;5;124m\"\u001b[39m\u001b[38;5;124mblock\u001b[39m\u001b[38;5;124m\"\u001b[39m:\n\u001b[1;32m    486\u001b[0m         \u001b[38;5;66;03m# We only need to copy arrays that will not get consolidated, i.e.\u001b[39;00m\n\u001b[1;32m    487\u001b[0m         \u001b[38;5;66;03m#  only EA arrays\u001b[39;00m\n",
      "File \u001b[0;32m/opt/conda/lib/python3.8/site-packages/pandas/core/internals/construction.py:482\u001b[0m, in \u001b[0;36m<listcomp>\u001b[0;34m(.0)\u001b[0m\n\u001b[1;32m    480\u001b[0m     columns \u001b[38;5;241m=\u001b[39m Index(keys)\n\u001b[1;32m    481\u001b[0m     arrays \u001b[38;5;241m=\u001b[39m [com\u001b[38;5;241m.\u001b[39mmaybe_iterable_to_list(data[k]) \u001b[38;5;28;01mfor\u001b[39;00m k \u001b[38;5;129;01min\u001b[39;00m keys]\n\u001b[0;32m--> 482\u001b[0m     arrays \u001b[38;5;241m=\u001b[39m [arr \u001b[38;5;28;01mif\u001b[39;00m \u001b[38;5;129;01mnot\u001b[39;00m \u001b[38;5;28misinstance\u001b[39m(arr, Index) \u001b[38;5;28;01melse\u001b[39;00m \u001b[43marr\u001b[49m\u001b[38;5;241;43m.\u001b[39;49m\u001b[43m_data\u001b[49m \u001b[38;5;28;01mfor\u001b[39;00m arr \u001b[38;5;129;01min\u001b[39;00m arrays]\n\u001b[1;32m    484\u001b[0m \u001b[38;5;28;01mif\u001b[39;00m copy:\n\u001b[1;32m    485\u001b[0m     \u001b[38;5;28;01mif\u001b[39;00m typ \u001b[38;5;241m==\u001b[39m \u001b[38;5;124m\"\u001b[39m\u001b[38;5;124mblock\u001b[39m\u001b[38;5;124m\"\u001b[39m:\n\u001b[1;32m    486\u001b[0m         \u001b[38;5;66;03m# We only need to copy arrays that will not get consolidated, i.e.\u001b[39;00m\n\u001b[1;32m    487\u001b[0m         \u001b[38;5;66;03m#  only EA arrays\u001b[39;00m\n",
      "\u001b[0;31mAttributeError\u001b[0m: 'MultiIndex' object has no attribute '_data'"
     ]
    }
   ],
   "source": [
    "#df = pd.read_csv(\"theses_uca_processed.csv\", sep=\",\", encoding=\"utf-8\")\n",
    "dbEngine=sqla.create_engine('sqlite:////home/docker/app/bso_theses/09_db/theses.db')\n",
    "df = pd.read_sql(f'select * from bso_theses_uca_20221017 where annee_civile_soutenance < 2022',dbEngine)\n",
    "d = pd.DataFrame({'disc': df[\"oai_set_specs_0_regroup_label\",\"has_exist_embargo\"].value_counts(\n",
    "    ).index, 'count': df[\"oai_set_specs_0_regroup_label\"].value_counts().values})\n",
    "d"
   ]
  },
  {
   "cell_type": "code",
   "execution_count": 33,
   "id": "78a8581f",
   "metadata": {},
   "outputs": [
    {
     "data": {
      "application/vnd.jupyter.widget-view+json": {
       "model_id": "b3cb6743462c43b39f0a7b67e45450b5"
      },
      "text/plain": [
       "                   oai_set_specs_0_regroup_label has_exist_embargo  count  \\\n",
       "13           Arts. Beaux-arts et arts décoratifs      Avec embargo      9   \n",
       "10           Arts. Beaux-arts et arts décoratifs      Sans embargo     49   \n",
       "14                        Géographie et histoire      Avec embargo      7   \n",
       "9                         Géographie et histoire      Sans embargo     63   \n",
       "15  Histoire et critique littéraires, rhétorique      Avec embargo      5   \n",
       "11  Histoire et critique littéraires, rhétorique      Sans embargo     45   \n",
       "3         Informatique, information, généralités      Sans embargo    196   \n",
       "7         Informatique, information, généralités      Avec embargo     85   \n",
       "17                       Langues et linguistique      Avec embargo      4   \n",
       "12                       Langues et linguistique      Sans embargo     38   \n",
       "6                       Philosophie, psychologie      Sans embargo     86   \n",
       "16                      Philosophie, psychologie      Avec embargo      4   \n",
       "0         Sciences de la nature et mathématiques      Sans embargo    461   \n",
       "1         Sciences de la nature et mathématiques      Avec embargo    433   \n",
       "2   Sciences sociales, sociologie, anthropologie      Sans embargo    251   \n",
       "8   Sciences sociales, sociologie, anthropologie      Avec embargo     79   \n",
       "4              Technologie (Sciences appliquées)      Sans embargo    184   \n",
       "5              Technologie (Sciences appliquées)      Avec embargo    108   \n",
       "\n",
       "    log_count  \n",
       "13   0.954243  \n",
       "10   1.690196  \n",
       "14   0.845098  \n",
       "9    1.799341  \n",
       "15   0.698970  \n",
       "11   1.653213  \n",
       "3    2.292256  \n",
       "7    1.929419  \n",
       "17   0.602060  \n",
       "12   1.579784  \n",
       "6    1.934498  \n",
       "16   0.602060  \n",
       "0    2.663701  \n",
       "1    2.636488  \n",
       "2    2.399674  \n",
       "8    1.897627  \n",
       "4    2.264818  \n",
       "5    2.033424  "
      ]
     },
     "metadata": {},
     "output_type": "display_data"
    }
   ],
   "source": [
    "from math import log\n",
    "t = (pd.DataFrame(df[[\"oai_set_specs_0_regroup_label\",\"has_exist_embargo\"]].value_counts())\n",
    "     .reset_index()\n",
    "     .rename(columns={\"oai_set_specs_0_regroup_label\":\"discipline\",\"has_exist_embargo\":\"embargo',0:\"count\"}))\n",
    "t[\"log_count\"] = t[\"count\"].apply(lambda x: log(x,10))\n",
    "import pandas as pd; import numpy as np\n",
    "# Step: Sort column(s) oai_set_specs_0_regroup_label ascending (A-Z)\n",
    "t = t.sort_values(by=['discipline'], ascending=[True])\n",
    "\n",
    "t"
   ]
  },
  {
   "cell_type": "code",
   "execution_count": 34,
   "id": "e2e8df99",
   "metadata": {},
   "outputs": [
    {
     "data": {
      "application/vnd.plotly.v1+json": {
       "config": {
        "plotlyServerURL": "https://plot.ly"
       },
       "data": [
        {
         "hovertemplate": "has_exist_embargo=Avec embargo<br>log_count=%{r}<br>oai_set_specs_0_regroup_label=%{theta}<extra></extra>",
         "legendgroup": "Avec embargo",
         "line": {
          "color": "#f0f921",
          "dash": "solid"
         },
         "marker": {
          "symbol": "circle"
         },
         "mode": "lines",
         "name": "Avec embargo",
         "r": [
          0.9542425094393249,
          0.8450980400142567,
          0.6989700043360187,
          1.9294189257142926,
          0.6020599913279623,
          0.6020599913279623,
          2.636487896353365,
          1.8976270912904412,
          2.0334237554869494,
          0.9542425094393249
         ],
         "showlegend": true,
         "subplot": "polar",
         "theta": [
          "Arts. Beaux-arts et arts décoratifs",
          "Géographie et histoire",
          "Histoire et critique littéraires, rhétorique",
          "Informatique, information, généralités",
          "Langues et linguistique",
          "Philosophie, psychologie",
          "Sciences de la nature et mathématiques",
          "Sciences sociales, sociologie, anthropologie",
          "Technologie (Sciences appliquées)",
          "Arts. Beaux-arts et arts décoratifs"
         ],
         "type": "scatterpolar"
        },
        {
         "hovertemplate": "has_exist_embargo=Sans embargo<br>log_count=%{r}<br>oai_set_specs_0_regroup_label=%{theta}<extra></extra>",
         "legendgroup": "Sans embargo",
         "line": {
          "color": "#fdca26",
          "dash": "solid"
         },
         "marker": {
          "symbol": "circle"
         },
         "mode": "lines",
         "name": "Sans embargo",
         "r": [
          1.6901960800285134,
          1.7993405494535815,
          1.6532125137753435,
          2.2922560713564755,
          1.57978359661681,
          1.9344984512435675,
          2.663700925389648,
          2.3996737214810375,
          2.2648178230095364,
          1.6901960800285134
         ],
         "showlegend": true,
         "subplot": "polar",
         "theta": [
          "Arts. Beaux-arts et arts décoratifs",
          "Géographie et histoire",
          "Histoire et critique littéraires, rhétorique",
          "Informatique, information, généralités",
          "Langues et linguistique",
          "Philosophie, psychologie",
          "Sciences de la nature et mathématiques",
          "Sciences sociales, sociologie, anthropologie",
          "Technologie (Sciences appliquées)",
          "Arts. Beaux-arts et arts décoratifs"
         ],
         "type": "scatterpolar"
        }
       ],
       "layout": {
        "legend": {
         "title": {
          "text": "has_exist_embargo"
         },
         "tracegroupgap": 0
        },
        "margin": {
         "t": 60
        },
        "polar": {
         "angularaxis": {
          "direction": "clockwise",
          "rotation": 90
         },
         "domain": {
          "x": [
           0,
           1
          ],
          "y": [
           0,
           1
          ]
         }
        },
        "template": {
         "data": {
          "bar": [
           {
            "error_x": {
             "color": "#f2f5fa"
            },
            "error_y": {
             "color": "#f2f5fa"
            },
            "marker": {
             "line": {
              "color": "rgb(17,17,17)",
              "width": 0.5
             },
             "pattern": {
              "fillmode": "overlay",
              "size": 10,
              "solidity": 0.2
             }
            },
            "type": "bar"
           }
          ],
          "barpolar": [
           {
            "marker": {
             "line": {
              "color": "rgb(17,17,17)",
              "width": 0.5
             },
             "pattern": {
              "fillmode": "overlay",
              "size": 10,
              "solidity": 0.2
             }
            },
            "type": "barpolar"
           }
          ],
          "carpet": [
           {
            "aaxis": {
             "endlinecolor": "#A2B1C6",
             "gridcolor": "#506784",
             "linecolor": "#506784",
             "minorgridcolor": "#506784",
             "startlinecolor": "#A2B1C6"
            },
            "baxis": {
             "endlinecolor": "#A2B1C6",
             "gridcolor": "#506784",
             "linecolor": "#506784",
             "minorgridcolor": "#506784",
             "startlinecolor": "#A2B1C6"
            },
            "type": "carpet"
           }
          ],
          "choropleth": [
           {
            "colorbar": {
             "outlinewidth": 0,
             "ticks": ""
            },
            "type": "choropleth"
           }
          ],
          "contour": [
           {
            "colorbar": {
             "outlinewidth": 0,
             "ticks": ""
            },
            "colorscale": [
             [
              0,
              "#0d0887"
             ],
             [
              0.1111111111111111,
              "#46039f"
             ],
             [
              0.2222222222222222,
              "#7201a8"
             ],
             [
              0.3333333333333333,
              "#9c179e"
             ],
             [
              0.4444444444444444,
              "#bd3786"
             ],
             [
              0.5555555555555556,
              "#d8576b"
             ],
             [
              0.6666666666666666,
              "#ed7953"
             ],
             [
              0.7777777777777778,
              "#fb9f3a"
             ],
             [
              0.8888888888888888,
              "#fdca26"
             ],
             [
              1,
              "#f0f921"
             ]
            ],
            "type": "contour"
           }
          ],
          "contourcarpet": [
           {
            "colorbar": {
             "outlinewidth": 0,
             "ticks": ""
            },
            "type": "contourcarpet"
           }
          ],
          "heatmap": [
           {
            "colorbar": {
             "outlinewidth": 0,
             "ticks": ""
            },
            "colorscale": [
             [
              0,
              "#0d0887"
             ],
             [
              0.1111111111111111,
              "#46039f"
             ],
             [
              0.2222222222222222,
              "#7201a8"
             ],
             [
              0.3333333333333333,
              "#9c179e"
             ],
             [
              0.4444444444444444,
              "#bd3786"
             ],
             [
              0.5555555555555556,
              "#d8576b"
             ],
             [
              0.6666666666666666,
              "#ed7953"
             ],
             [
              0.7777777777777778,
              "#fb9f3a"
             ],
             [
              0.8888888888888888,
              "#fdca26"
             ],
             [
              1,
              "#f0f921"
             ]
            ],
            "type": "heatmap"
           }
          ],
          "heatmapgl": [
           {
            "colorbar": {
             "outlinewidth": 0,
             "ticks": ""
            },
            "colorscale": [
             [
              0,
              "#0d0887"
             ],
             [
              0.1111111111111111,
              "#46039f"
             ],
             [
              0.2222222222222222,
              "#7201a8"
             ],
             [
              0.3333333333333333,
              "#9c179e"
             ],
             [
              0.4444444444444444,
              "#bd3786"
             ],
             [
              0.5555555555555556,
              "#d8576b"
             ],
             [
              0.6666666666666666,
              "#ed7953"
             ],
             [
              0.7777777777777778,
              "#fb9f3a"
             ],
             [
              0.8888888888888888,
              "#fdca26"
             ],
             [
              1,
              "#f0f921"
             ]
            ],
            "type": "heatmapgl"
           }
          ],
          "histogram": [
           {
            "marker": {
             "pattern": {
              "fillmode": "overlay",
              "size": 10,
              "solidity": 0.2
             }
            },
            "type": "histogram"
           }
          ],
          "histogram2d": [
           {
            "colorbar": {
             "outlinewidth": 0,
             "ticks": ""
            },
            "colorscale": [
             [
              0,
              "#0d0887"
             ],
             [
              0.1111111111111111,
              "#46039f"
             ],
             [
              0.2222222222222222,
              "#7201a8"
             ],
             [
              0.3333333333333333,
              "#9c179e"
             ],
             [
              0.4444444444444444,
              "#bd3786"
             ],
             [
              0.5555555555555556,
              "#d8576b"
             ],
             [
              0.6666666666666666,
              "#ed7953"
             ],
             [
              0.7777777777777778,
              "#fb9f3a"
             ],
             [
              0.8888888888888888,
              "#fdca26"
             ],
             [
              1,
              "#f0f921"
             ]
            ],
            "type": "histogram2d"
           }
          ],
          "histogram2dcontour": [
           {
            "colorbar": {
             "outlinewidth": 0,
             "ticks": ""
            },
            "colorscale": [
             [
              0,
              "#0d0887"
             ],
             [
              0.1111111111111111,
              "#46039f"
             ],
             [
              0.2222222222222222,
              "#7201a8"
             ],
             [
              0.3333333333333333,
              "#9c179e"
             ],
             [
              0.4444444444444444,
              "#bd3786"
             ],
             [
              0.5555555555555556,
              "#d8576b"
             ],
             [
              0.6666666666666666,
              "#ed7953"
             ],
             [
              0.7777777777777778,
              "#fb9f3a"
             ],
             [
              0.8888888888888888,
              "#fdca26"
             ],
             [
              1,
              "#f0f921"
             ]
            ],
            "type": "histogram2dcontour"
           }
          ],
          "mesh3d": [
           {
            "colorbar": {
             "outlinewidth": 0,
             "ticks": ""
            },
            "type": "mesh3d"
           }
          ],
          "parcoords": [
           {
            "line": {
             "colorbar": {
              "outlinewidth": 0,
              "ticks": ""
             }
            },
            "type": "parcoords"
           }
          ],
          "pie": [
           {
            "automargin": true,
            "type": "pie"
           }
          ],
          "scatter": [
           {
            "marker": {
             "line": {
              "color": "#283442"
             }
            },
            "type": "scatter"
           }
          ],
          "scatter3d": [
           {
            "line": {
             "colorbar": {
              "outlinewidth": 0,
              "ticks": ""
             }
            },
            "marker": {
             "colorbar": {
              "outlinewidth": 0,
              "ticks": ""
             }
            },
            "type": "scatter3d"
           }
          ],
          "scattercarpet": [
           {
            "marker": {
             "colorbar": {
              "outlinewidth": 0,
              "ticks": ""
             }
            },
            "type": "scattercarpet"
           }
          ],
          "scattergeo": [
           {
            "marker": {
             "colorbar": {
              "outlinewidth": 0,
              "ticks": ""
             }
            },
            "type": "scattergeo"
           }
          ],
          "scattergl": [
           {
            "marker": {
             "line": {
              "color": "#283442"
             }
            },
            "type": "scattergl"
           }
          ],
          "scattermapbox": [
           {
            "marker": {
             "colorbar": {
              "outlinewidth": 0,
              "ticks": ""
             }
            },
            "type": "scattermapbox"
           }
          ],
          "scatterpolar": [
           {
            "marker": {
             "colorbar": {
              "outlinewidth": 0,
              "ticks": ""
             }
            },
            "type": "scatterpolar"
           }
          ],
          "scatterpolargl": [
           {
            "marker": {
             "colorbar": {
              "outlinewidth": 0,
              "ticks": ""
             }
            },
            "type": "scatterpolargl"
           }
          ],
          "scatterternary": [
           {
            "marker": {
             "colorbar": {
              "outlinewidth": 0,
              "ticks": ""
             }
            },
            "type": "scatterternary"
           }
          ],
          "surface": [
           {
            "colorbar": {
             "outlinewidth": 0,
             "ticks": ""
            },
            "colorscale": [
             [
              0,
              "#0d0887"
             ],
             [
              0.1111111111111111,
              "#46039f"
             ],
             [
              0.2222222222222222,
              "#7201a8"
             ],
             [
              0.3333333333333333,
              "#9c179e"
             ],
             [
              0.4444444444444444,
              "#bd3786"
             ],
             [
              0.5555555555555556,
              "#d8576b"
             ],
             [
              0.6666666666666666,
              "#ed7953"
             ],
             [
              0.7777777777777778,
              "#fb9f3a"
             ],
             [
              0.8888888888888888,
              "#fdca26"
             ],
             [
              1,
              "#f0f921"
             ]
            ],
            "type": "surface"
           }
          ],
          "table": [
           {
            "cells": {
             "fill": {
              "color": "#506784"
             },
             "line": {
              "color": "rgb(17,17,17)"
             }
            },
            "header": {
             "fill": {
              "color": "#2a3f5f"
             },
             "line": {
              "color": "rgb(17,17,17)"
             }
            },
            "type": "table"
           }
          ]
         },
         "layout": {
          "annotationdefaults": {
           "arrowcolor": "#f2f5fa",
           "arrowhead": 0,
           "arrowwidth": 1
          },
          "autotypenumbers": "strict",
          "coloraxis": {
           "colorbar": {
            "outlinewidth": 0,
            "ticks": ""
           }
          },
          "colorscale": {
           "diverging": [
            [
             0,
             "#8e0152"
            ],
            [
             0.1,
             "#c51b7d"
            ],
            [
             0.2,
             "#de77ae"
            ],
            [
             0.3,
             "#f1b6da"
            ],
            [
             0.4,
             "#fde0ef"
            ],
            [
             0.5,
             "#f7f7f7"
            ],
            [
             0.6,
             "#e6f5d0"
            ],
            [
             0.7,
             "#b8e186"
            ],
            [
             0.8,
             "#7fbc41"
            ],
            [
             0.9,
             "#4d9221"
            ],
            [
             1,
             "#276419"
            ]
           ],
           "sequential": [
            [
             0,
             "#0d0887"
            ],
            [
             0.1111111111111111,
             "#46039f"
            ],
            [
             0.2222222222222222,
             "#7201a8"
            ],
            [
             0.3333333333333333,
             "#9c179e"
            ],
            [
             0.4444444444444444,
             "#bd3786"
            ],
            [
             0.5555555555555556,
             "#d8576b"
            ],
            [
             0.6666666666666666,
             "#ed7953"
            ],
            [
             0.7777777777777778,
             "#fb9f3a"
            ],
            [
             0.8888888888888888,
             "#fdca26"
            ],
            [
             1,
             "#f0f921"
            ]
           ],
           "sequentialminus": [
            [
             0,
             "#0d0887"
            ],
            [
             0.1111111111111111,
             "#46039f"
            ],
            [
             0.2222222222222222,
             "#7201a8"
            ],
            [
             0.3333333333333333,
             "#9c179e"
            ],
            [
             0.4444444444444444,
             "#bd3786"
            ],
            [
             0.5555555555555556,
             "#d8576b"
            ],
            [
             0.6666666666666666,
             "#ed7953"
            ],
            [
             0.7777777777777778,
             "#fb9f3a"
            ],
            [
             0.8888888888888888,
             "#fdca26"
            ],
            [
             1,
             "#f0f921"
            ]
           ]
          },
          "colorway": [
           "#636efa",
           "#EF553B",
           "#00cc96",
           "#ab63fa",
           "#FFA15A",
           "#19d3f3",
           "#FF6692",
           "#B6E880",
           "#FF97FF",
           "#FECB52"
          ],
          "font": {
           "color": "#f2f5fa"
          },
          "geo": {
           "bgcolor": "rgb(17,17,17)",
           "lakecolor": "rgb(17,17,17)",
           "landcolor": "rgb(17,17,17)",
           "showlakes": true,
           "showland": true,
           "subunitcolor": "#506784"
          },
          "hoverlabel": {
           "align": "left"
          },
          "hovermode": "closest",
          "mapbox": {
           "style": "dark"
          },
          "paper_bgcolor": "rgb(17,17,17)",
          "plot_bgcolor": "rgb(17,17,17)",
          "polar": {
           "angularaxis": {
            "gridcolor": "#506784",
            "linecolor": "#506784",
            "ticks": ""
           },
           "bgcolor": "rgb(17,17,17)",
           "radialaxis": {
            "gridcolor": "#506784",
            "linecolor": "#506784",
            "ticks": ""
           }
          },
          "scene": {
           "xaxis": {
            "backgroundcolor": "rgb(17,17,17)",
            "gridcolor": "#506784",
            "gridwidth": 2,
            "linecolor": "#506784",
            "showbackground": true,
            "ticks": "",
            "zerolinecolor": "#C8D4E3"
           },
           "yaxis": {
            "backgroundcolor": "rgb(17,17,17)",
            "gridcolor": "#506784",
            "gridwidth": 2,
            "linecolor": "#506784",
            "showbackground": true,
            "ticks": "",
            "zerolinecolor": "#C8D4E3"
           },
           "zaxis": {
            "backgroundcolor": "rgb(17,17,17)",
            "gridcolor": "#506784",
            "gridwidth": 2,
            "linecolor": "#506784",
            "showbackground": true,
            "ticks": "",
            "zerolinecolor": "#C8D4E3"
           }
          },
          "shapedefaults": {
           "line": {
            "color": "#f2f5fa"
           }
          },
          "sliderdefaults": {
           "bgcolor": "#C8D4E3",
           "bordercolor": "rgb(17,17,17)",
           "borderwidth": 1,
           "tickwidth": 0
          },
          "ternary": {
           "aaxis": {
            "gridcolor": "#506784",
            "linecolor": "#506784",
            "ticks": ""
           },
           "baxis": {
            "gridcolor": "#506784",
            "linecolor": "#506784",
            "ticks": ""
           },
           "bgcolor": "rgb(17,17,17)",
           "caxis": {
            "gridcolor": "#506784",
            "linecolor": "#506784",
            "ticks": ""
           }
          },
          "title": {
           "x": 0.05
          },
          "updatemenudefaults": {
           "bgcolor": "#506784",
           "borderwidth": 0
          },
          "xaxis": {
           "automargin": true,
           "gridcolor": "#283442",
           "linecolor": "#506784",
           "ticks": "",
           "title": {
            "standoff": 15
           },
           "zerolinecolor": "#283442",
           "zerolinewidth": 2
          },
          "yaxis": {
           "automargin": true,
           "gridcolor": "#283442",
           "linecolor": "#506784",
           "ticks": "",
           "title": {
            "standoff": 15
           },
           "zerolinecolor": "#283442",
           "zerolinewidth": 2
          }
         }
        }
       }
      },
      "text/html": [
       "<div>                            <div id=\"d3c2625a-5f0e-45e4-986f-dd6876ea3bef\" class=\"plotly-graph-div\" style=\"height:525px; width:100%;\"></div>            <script type=\"text/javascript\">                require([\"plotly\"], function(Plotly) {                    window.PLOTLYENV=window.PLOTLYENV || {};                                    if (document.getElementById(\"d3c2625a-5f0e-45e4-986f-dd6876ea3bef\")) {                    Plotly.newPlot(                        \"d3c2625a-5f0e-45e4-986f-dd6876ea3bef\",                        [{\"hovertemplate\":\"has_exist_embargo=Avec embargo<br>log_count=%{r}<br>oai_set_specs_0_regroup_label=%{theta}<extra></extra>\",\"legendgroup\":\"Avec embargo\",\"line\":{\"color\":\"#f0f921\",\"dash\":\"solid\"},\"marker\":{\"symbol\":\"circle\"},\"mode\":\"lines\",\"name\":\"Avec embargo\",\"r\":[0.9542425094393249,0.8450980400142567,0.6989700043360187,1.9294189257142926,0.6020599913279623,0.6020599913279623,2.636487896353365,1.8976270912904412,2.0334237554869494,0.9542425094393249],\"showlegend\":true,\"subplot\":\"polar\",\"theta\":[\"Arts. Beaux-arts et arts d\\u00e9coratifs\",\"G\\u00e9ographie et histoire\",\"Histoire et critique litt\\u00e9raires, rh\\u00e9torique\",\"Informatique, information, g\\u00e9n\\u00e9ralit\\u00e9s\",\"Langues et linguistique\",\"Philosophie, psychologie\",\"Sciences de la nature et math\\u00e9matiques\",\"Sciences sociales, sociologie, anthropologie\",\"Technologie (Sciences appliqu\\u00e9es)\",\"Arts. Beaux-arts et arts d\\u00e9coratifs\"],\"type\":\"scatterpolar\"},{\"hovertemplate\":\"has_exist_embargo=Sans embargo<br>log_count=%{r}<br>oai_set_specs_0_regroup_label=%{theta}<extra></extra>\",\"legendgroup\":\"Sans embargo\",\"line\":{\"color\":\"#fdca26\",\"dash\":\"solid\"},\"marker\":{\"symbol\":\"circle\"},\"mode\":\"lines\",\"name\":\"Sans embargo\",\"r\":[1.6901960800285134,1.7993405494535815,1.6532125137753435,2.2922560713564755,1.57978359661681,1.9344984512435675,2.663700925389648,2.3996737214810375,2.2648178230095364,1.6901960800285134],\"showlegend\":true,\"subplot\":\"polar\",\"theta\":[\"Arts. Beaux-arts et arts d\\u00e9coratifs\",\"G\\u00e9ographie et histoire\",\"Histoire et critique litt\\u00e9raires, rh\\u00e9torique\",\"Informatique, information, g\\u00e9n\\u00e9ralit\\u00e9s\",\"Langues et linguistique\",\"Philosophie, psychologie\",\"Sciences de la nature et math\\u00e9matiques\",\"Sciences sociales, sociologie, anthropologie\",\"Technologie (Sciences appliqu\\u00e9es)\",\"Arts. Beaux-arts et arts d\\u00e9coratifs\"],\"type\":\"scatterpolar\"}],                        {\"template\":{\"data\":{\"barpolar\":[{\"marker\":{\"line\":{\"color\":\"rgb(17,17,17)\",\"width\":0.5},\"pattern\":{\"fillmode\":\"overlay\",\"size\":10,\"solidity\":0.2}},\"type\":\"barpolar\"}],\"bar\":[{\"error_x\":{\"color\":\"#f2f5fa\"},\"error_y\":{\"color\":\"#f2f5fa\"},\"marker\":{\"line\":{\"color\":\"rgb(17,17,17)\",\"width\":0.5},\"pattern\":{\"fillmode\":\"overlay\",\"size\":10,\"solidity\":0.2}},\"type\":\"bar\"}],\"carpet\":[{\"aaxis\":{\"endlinecolor\":\"#A2B1C6\",\"gridcolor\":\"#506784\",\"linecolor\":\"#506784\",\"minorgridcolor\":\"#506784\",\"startlinecolor\":\"#A2B1C6\"},\"baxis\":{\"endlinecolor\":\"#A2B1C6\",\"gridcolor\":\"#506784\",\"linecolor\":\"#506784\",\"minorgridcolor\":\"#506784\",\"startlinecolor\":\"#A2B1C6\"},\"type\":\"carpet\"}],\"choropleth\":[{\"colorbar\":{\"outlinewidth\":0,\"ticks\":\"\"},\"type\":\"choropleth\"}],\"contourcarpet\":[{\"colorbar\":{\"outlinewidth\":0,\"ticks\":\"\"},\"type\":\"contourcarpet\"}],\"contour\":[{\"colorbar\":{\"outlinewidth\":0,\"ticks\":\"\"},\"colorscale\":[[0.0,\"#0d0887\"],[0.1111111111111111,\"#46039f\"],[0.2222222222222222,\"#7201a8\"],[0.3333333333333333,\"#9c179e\"],[0.4444444444444444,\"#bd3786\"],[0.5555555555555556,\"#d8576b\"],[0.6666666666666666,\"#ed7953\"],[0.7777777777777778,\"#fb9f3a\"],[0.8888888888888888,\"#fdca26\"],[1.0,\"#f0f921\"]],\"type\":\"contour\"}],\"heatmapgl\":[{\"colorbar\":{\"outlinewidth\":0,\"ticks\":\"\"},\"colorscale\":[[0.0,\"#0d0887\"],[0.1111111111111111,\"#46039f\"],[0.2222222222222222,\"#7201a8\"],[0.3333333333333333,\"#9c179e\"],[0.4444444444444444,\"#bd3786\"],[0.5555555555555556,\"#d8576b\"],[0.6666666666666666,\"#ed7953\"],[0.7777777777777778,\"#fb9f3a\"],[0.8888888888888888,\"#fdca26\"],[1.0,\"#f0f921\"]],\"type\":\"heatmapgl\"}],\"heatmap\":[{\"colorbar\":{\"outlinewidth\":0,\"ticks\":\"\"},\"colorscale\":[[0.0,\"#0d0887\"],[0.1111111111111111,\"#46039f\"],[0.2222222222222222,\"#7201a8\"],[0.3333333333333333,\"#9c179e\"],[0.4444444444444444,\"#bd3786\"],[0.5555555555555556,\"#d8576b\"],[0.6666666666666666,\"#ed7953\"],[0.7777777777777778,\"#fb9f3a\"],[0.8888888888888888,\"#fdca26\"],[1.0,\"#f0f921\"]],\"type\":\"heatmap\"}],\"histogram2dcontour\":[{\"colorbar\":{\"outlinewidth\":0,\"ticks\":\"\"},\"colorscale\":[[0.0,\"#0d0887\"],[0.1111111111111111,\"#46039f\"],[0.2222222222222222,\"#7201a8\"],[0.3333333333333333,\"#9c179e\"],[0.4444444444444444,\"#bd3786\"],[0.5555555555555556,\"#d8576b\"],[0.6666666666666666,\"#ed7953\"],[0.7777777777777778,\"#fb9f3a\"],[0.8888888888888888,\"#fdca26\"],[1.0,\"#f0f921\"]],\"type\":\"histogram2dcontour\"}],\"histogram2d\":[{\"colorbar\":{\"outlinewidth\":0,\"ticks\":\"\"},\"colorscale\":[[0.0,\"#0d0887\"],[0.1111111111111111,\"#46039f\"],[0.2222222222222222,\"#7201a8\"],[0.3333333333333333,\"#9c179e\"],[0.4444444444444444,\"#bd3786\"],[0.5555555555555556,\"#d8576b\"],[0.6666666666666666,\"#ed7953\"],[0.7777777777777778,\"#fb9f3a\"],[0.8888888888888888,\"#fdca26\"],[1.0,\"#f0f921\"]],\"type\":\"histogram2d\"}],\"histogram\":[{\"marker\":{\"pattern\":{\"fillmode\":\"overlay\",\"size\":10,\"solidity\":0.2}},\"type\":\"histogram\"}],\"mesh3d\":[{\"colorbar\":{\"outlinewidth\":0,\"ticks\":\"\"},\"type\":\"mesh3d\"}],\"parcoords\":[{\"line\":{\"colorbar\":{\"outlinewidth\":0,\"ticks\":\"\"}},\"type\":\"parcoords\"}],\"pie\":[{\"automargin\":true,\"type\":\"pie\"}],\"scatter3d\":[{\"line\":{\"colorbar\":{\"outlinewidth\":0,\"ticks\":\"\"}},\"marker\":{\"colorbar\":{\"outlinewidth\":0,\"ticks\":\"\"}},\"type\":\"scatter3d\"}],\"scattercarpet\":[{\"marker\":{\"colorbar\":{\"outlinewidth\":0,\"ticks\":\"\"}},\"type\":\"scattercarpet\"}],\"scattergeo\":[{\"marker\":{\"colorbar\":{\"outlinewidth\":0,\"ticks\":\"\"}},\"type\":\"scattergeo\"}],\"scattergl\":[{\"marker\":{\"line\":{\"color\":\"#283442\"}},\"type\":\"scattergl\"}],\"scattermapbox\":[{\"marker\":{\"colorbar\":{\"outlinewidth\":0,\"ticks\":\"\"}},\"type\":\"scattermapbox\"}],\"scatterpolargl\":[{\"marker\":{\"colorbar\":{\"outlinewidth\":0,\"ticks\":\"\"}},\"type\":\"scatterpolargl\"}],\"scatterpolar\":[{\"marker\":{\"colorbar\":{\"outlinewidth\":0,\"ticks\":\"\"}},\"type\":\"scatterpolar\"}],\"scatter\":[{\"marker\":{\"line\":{\"color\":\"#283442\"}},\"type\":\"scatter\"}],\"scatterternary\":[{\"marker\":{\"colorbar\":{\"outlinewidth\":0,\"ticks\":\"\"}},\"type\":\"scatterternary\"}],\"surface\":[{\"colorbar\":{\"outlinewidth\":0,\"ticks\":\"\"},\"colorscale\":[[0.0,\"#0d0887\"],[0.1111111111111111,\"#46039f\"],[0.2222222222222222,\"#7201a8\"],[0.3333333333333333,\"#9c179e\"],[0.4444444444444444,\"#bd3786\"],[0.5555555555555556,\"#d8576b\"],[0.6666666666666666,\"#ed7953\"],[0.7777777777777778,\"#fb9f3a\"],[0.8888888888888888,\"#fdca26\"],[1.0,\"#f0f921\"]],\"type\":\"surface\"}],\"table\":[{\"cells\":{\"fill\":{\"color\":\"#506784\"},\"line\":{\"color\":\"rgb(17,17,17)\"}},\"header\":{\"fill\":{\"color\":\"#2a3f5f\"},\"line\":{\"color\":\"rgb(17,17,17)\"}},\"type\":\"table\"}]},\"layout\":{\"annotationdefaults\":{\"arrowcolor\":\"#f2f5fa\",\"arrowhead\":0,\"arrowwidth\":1},\"autotypenumbers\":\"strict\",\"coloraxis\":{\"colorbar\":{\"outlinewidth\":0,\"ticks\":\"\"}},\"colorscale\":{\"diverging\":[[0,\"#8e0152\"],[0.1,\"#c51b7d\"],[0.2,\"#de77ae\"],[0.3,\"#f1b6da\"],[0.4,\"#fde0ef\"],[0.5,\"#f7f7f7\"],[0.6,\"#e6f5d0\"],[0.7,\"#b8e186\"],[0.8,\"#7fbc41\"],[0.9,\"#4d9221\"],[1,\"#276419\"]],\"sequential\":[[0.0,\"#0d0887\"],[0.1111111111111111,\"#46039f\"],[0.2222222222222222,\"#7201a8\"],[0.3333333333333333,\"#9c179e\"],[0.4444444444444444,\"#bd3786\"],[0.5555555555555556,\"#d8576b\"],[0.6666666666666666,\"#ed7953\"],[0.7777777777777778,\"#fb9f3a\"],[0.8888888888888888,\"#fdca26\"],[1.0,\"#f0f921\"]],\"sequentialminus\":[[0.0,\"#0d0887\"],[0.1111111111111111,\"#46039f\"],[0.2222222222222222,\"#7201a8\"],[0.3333333333333333,\"#9c179e\"],[0.4444444444444444,\"#bd3786\"],[0.5555555555555556,\"#d8576b\"],[0.6666666666666666,\"#ed7953\"],[0.7777777777777778,\"#fb9f3a\"],[0.8888888888888888,\"#fdca26\"],[1.0,\"#f0f921\"]]},\"colorway\":[\"#636efa\",\"#EF553B\",\"#00cc96\",\"#ab63fa\",\"#FFA15A\",\"#19d3f3\",\"#FF6692\",\"#B6E880\",\"#FF97FF\",\"#FECB52\"],\"font\":{\"color\":\"#f2f5fa\"},\"geo\":{\"bgcolor\":\"rgb(17,17,17)\",\"lakecolor\":\"rgb(17,17,17)\",\"landcolor\":\"rgb(17,17,17)\",\"showlakes\":true,\"showland\":true,\"subunitcolor\":\"#506784\"},\"hoverlabel\":{\"align\":\"left\"},\"hovermode\":\"closest\",\"mapbox\":{\"style\":\"dark\"},\"paper_bgcolor\":\"rgb(17,17,17)\",\"plot_bgcolor\":\"rgb(17,17,17)\",\"polar\":{\"angularaxis\":{\"gridcolor\":\"#506784\",\"linecolor\":\"#506784\",\"ticks\":\"\"},\"bgcolor\":\"rgb(17,17,17)\",\"radialaxis\":{\"gridcolor\":\"#506784\",\"linecolor\":\"#506784\",\"ticks\":\"\"}},\"scene\":{\"xaxis\":{\"backgroundcolor\":\"rgb(17,17,17)\",\"gridcolor\":\"#506784\",\"gridwidth\":2,\"linecolor\":\"#506784\",\"showbackground\":true,\"ticks\":\"\",\"zerolinecolor\":\"#C8D4E3\"},\"yaxis\":{\"backgroundcolor\":\"rgb(17,17,17)\",\"gridcolor\":\"#506784\",\"gridwidth\":2,\"linecolor\":\"#506784\",\"showbackground\":true,\"ticks\":\"\",\"zerolinecolor\":\"#C8D4E3\"},\"zaxis\":{\"backgroundcolor\":\"rgb(17,17,17)\",\"gridcolor\":\"#506784\",\"gridwidth\":2,\"linecolor\":\"#506784\",\"showbackground\":true,\"ticks\":\"\",\"zerolinecolor\":\"#C8D4E3\"}},\"shapedefaults\":{\"line\":{\"color\":\"#f2f5fa\"}},\"sliderdefaults\":{\"bgcolor\":\"#C8D4E3\",\"bordercolor\":\"rgb(17,17,17)\",\"borderwidth\":1,\"tickwidth\":0},\"ternary\":{\"aaxis\":{\"gridcolor\":\"#506784\",\"linecolor\":\"#506784\",\"ticks\":\"\"},\"baxis\":{\"gridcolor\":\"#506784\",\"linecolor\":\"#506784\",\"ticks\":\"\"},\"bgcolor\":\"rgb(17,17,17)\",\"caxis\":{\"gridcolor\":\"#506784\",\"linecolor\":\"#506784\",\"ticks\":\"\"}},\"title\":{\"x\":0.05},\"updatemenudefaults\":{\"bgcolor\":\"#506784\",\"borderwidth\":0},\"xaxis\":{\"automargin\":true,\"gridcolor\":\"#283442\",\"linecolor\":\"#506784\",\"ticks\":\"\",\"title\":{\"standoff\":15},\"zerolinecolor\":\"#283442\",\"zerolinewidth\":2},\"yaxis\":{\"automargin\":true,\"gridcolor\":\"#283442\",\"linecolor\":\"#506784\",\"ticks\":\"\",\"title\":{\"standoff\":15},\"zerolinecolor\":\"#283442\",\"zerolinewidth\":2}}},\"polar\":{\"domain\":{\"x\":[0.0,1.0],\"y\":[0.0,1.0]},\"angularaxis\":{\"direction\":\"clockwise\",\"rotation\":90}},\"legend\":{\"title\":{\"text\":\"has_exist_embargo\"},\"tracegroupgap\":0},\"margin\":{\"t\":60}},                        {\"responsive\": true}                    ).then(function(){\n",
       "                            \n",
       "var gd = document.getElementById('d3c2625a-5f0e-45e4-986f-dd6876ea3bef');\n",
       "var x = new MutationObserver(function (mutations, observer) {{\n",
       "        var display = window.getComputedStyle(gd).display;\n",
       "        if (!display || display === 'none') {{\n",
       "            console.log([gd, 'removed!']);\n",
       "            Plotly.purge(gd);\n",
       "            observer.disconnect();\n",
       "        }}\n",
       "}});\n",
       "\n",
       "// Listen for the removal of the full notebook cells\n",
       "var notebookContainer = gd.closest('#notebook-container');\n",
       "if (notebookContainer) {{\n",
       "    x.observe(notebookContainer, {childList: true});\n",
       "}}\n",
       "\n",
       "// Listen for the clearing of the current output cell\n",
       "var outputEl = gd.closest('.output');\n",
       "if (outputEl) {{\n",
       "    x.observe(outputEl, {childList: true});\n",
       "}}\n",
       "\n",
       "                        })                };                });            </script>        </div>"
      ]
     },
     "metadata": {},
     "output_type": "display_data"
    }
   ],
   "source": [
    "t.columns = [str(column) for column in t.columns]\n",
    "px.line_polar(t, r=\"log_count\", theta=\"discipline\", color=\"embargo\", line_close=True,\n",
    "                    color_discrete_sequence=px.colors.sequential.Plasma_r,\n",
    "                    template=\"plotly_dark\",)"
   ]
  },
  {
   "cell_type": "code",
   "execution_count": 3,
   "id": "99fa73f2",
   "metadata": {},
   "outputs": [
    {
     "data": {
      "application/vnd.jupyter.widget-view+json": {
       "model_id": "8cb08ea01e814897979ad0fed1c16dc6"
      },
      "text/plain": [
       "                   source_id                              doi  year  \\\n",
       "0      SCOPUS_ID:84945265060       10.1016/j.cbpa.2015.10.017  2016   \n",
       "1      SCOPUS_ID:84961820483              10.1038/mi.2015.114  2016   \n",
       "2      SCOPUS_ID:84959020266     10.3928/01477447-20160111-01  2016   \n",
       "3      SCOPUS_ID:84940831274  10.1136/annrheumdis-2015-207336  2016   \n",
       "4      SCOPUS_ID:84945207793    10.1080/17528631.2015.1085664  2017   \n",
       "...                      ...                              ...   ...   \n",
       "14602  SCOPUS_ID:85068133692     10.1364/CLEO_AT.2019.JW2A.35  2019   \n",
       "14603  SCOPUS_ID:85068214919                10.1002/jnr.24485  2019   \n",
       "14604  SCOPUS_ID:85068770689               10.1039/c9cc04489b  2019   \n",
       "14605  SCOPUS_ID:85068743935       10.1038/s41598-019-46241-5  2019   \n",
       "14606  SCOPUS_ID:85068360891      10.1051/0004-6361/201834744  2019   \n",
       "\n",
       "                                    corresponding  \\\n",
       "0                                            None   \n",
       "1                                            None   \n",
       "2                                            None   \n",
       "3                                            None   \n",
       "4         Laplanche-Servigne S.|UCA (affiliation)   \n",
       "...                                           ...   \n",
       "14602                                        None   \n",
       "14603                                        None   \n",
       "14604                                        None   \n",
       "14605  van den Ende M.P.A.|Le Laboratoire Géoazur   \n",
       "14606                                        None   \n",
       "\n",
       "                                             all_authors                genre  \\\n",
       "0      Revel J.|Sabourault C.|Capron L.|Massi L.|Mehi...      journal-article   \n",
       "1      Rekima A.|Turfkruyer M.|Le Bourhis L.|Verhasse...      journal-article   \n",
       "2                                             Boileau P.      journal-article   \n",
       "3                                               Leroy S.      journal-article   \n",
       "4                                  Laplanche-Servigne S.      journal-article   \n",
       "...                                                  ...                  ...   \n",
       "14602  Jullien A.|Di Pietro V.M.|Bortolozzo U.|Resido...  proceedings-article   \n",
       "14603                                Raad H.|Robichon A.      journal-article   \n",
       "14604                                      Di Giorgio C.      journal-article   \n",
       "14605                                van den Ende M.P.A.      journal-article   \n",
       "14606                                  Abe L.|Guillot T.      journal-article   \n",
       "\n",
       "                                                   title published_date  \\\n",
       "0      Differential distribution of lipids in epiderm...     2016-01-01   \n",
       "1      Oral tolerance is inefficient in neonatal mice...     2015-11-04   \n",
       "2      Challenges in Reverse Shoulder Arthroplasty: A...     2016-01-01   \n",
       "3      A prospective study of the 6 min walk test as ...     2015-08-31   \n",
       "4      A ‘black Parisian’ march in remembrance of sla...     2015-09-23   \n",
       "...                                                  ...            ...   \n",
       "14602  Thermally-induced nonlinear spatial shaping of...     2019-01-01   \n",
       "14603  The pleiotropic effects of Innexin genes expre...     2019-06-30   \n",
       "14604  Trehalose-based Siamese twin amphiphiles with ...     2019-01-01   \n",
       "14605  An investigation into the role of time-depende...     2019-07-09   \n",
       "14606  Revisiting the pulsational characteristics of ...     2019-06-27   \n",
       "\n",
       "                                     publisher  \\\n",
       "0                                  Elsevier BV   \n",
       "1      Springer Science and Business Media LLC   \n",
       "2                                  SLACK, Inc.   \n",
       "3                                          BMJ   \n",
       "4                           Informa UK Limited   \n",
       "...                                        ...   \n",
       "14602                                      OSA   \n",
       "14603                                    Wiley   \n",
       "14604         Royal Society of Chemistry (RSC)   \n",
       "14605  Springer Science and Business Media LLC   \n",
       "14606                             EDP Sciences   \n",
       "\n",
       "                                            journal_name  ...  \\\n",
       "0      Comparative Biochemistry and Physiology Part A...  ...   \n",
       "1                                     Mucosal Immunology  ...   \n",
       "2                                            Orthopedics  ...   \n",
       "3                       Annals of the Rheumatic Diseases  ...   \n",
       "4      African and Black Diaspora: An International J...  ...   \n",
       "...                                                  ...  ...   \n",
       "14602            Conference on Lasers and Electro-Optics  ...   \n",
       "14603                   Journal of Neuroscience Research  ...   \n",
       "14604                            Chemical Communications  ...   \n",
       "14605                                 Scientific Reports  ...   \n",
       "14606                       Astronomy &amp; Astrophysics  ...   \n",
       "\n",
       "          oa_host_type_normalized  \\\n",
       "0                     Accès fermé   \n",
       "1                         Editeur   \n",
       "2                     Accès fermé   \n",
       "3                     Accès fermé   \n",
       "4                     Accès fermé   \n",
       "...                           ...   \n",
       "14602                 Accès fermé   \n",
       "14603                 Accès fermé   \n",
       "14604  Editeur et archive ouverte   \n",
       "14605  Editeur et archive ouverte   \n",
       "14606  Editeur et archive ouverte   \n",
       "\n",
       "                                          oa_host_domain  \\\n",
       "0                                                   None   \n",
       "1                                         www.nature.com   \n",
       "2                                                   None   \n",
       "3                                                   None   \n",
       "4                                                   None   \n",
       "...                                                  ...   \n",
       "14602                                               None   \n",
       "14603                                               None   \n",
       "14604             pubs.rsc.org,dadun.unav.edu,idus.us.es   \n",
       "14605  www.nature.com,europepmc.org,dspace.library.uu...   \n",
       "14606  www.aanda.org,arxiv.org,openresearch-repositor...   \n",
       "\n",
       "                       oa_hostdomain_count oa_repo_normalized doi_prefix  \\\n",
       "0      {'hal': 0, 'arXiv': 0, 'Autres': 1}             Autres    10.1016   \n",
       "1      {'hal': 0, 'arXiv': 0, 'Autres': 1}             Autres    10.1038   \n",
       "2      {'hal': 0, 'arXiv': 0, 'Autres': 1}             Autres    10.3928   \n",
       "3      {'hal': 0, 'arXiv': 0, 'Autres': 1}             Autres    10.1136   \n",
       "4      {'hal': 0, 'arXiv': 0, 'Autres': 1}             Autres    10.1080   \n",
       "...                                    ...                ...        ...   \n",
       "14602  {'hal': 0, 'arXiv': 0, 'Autres': 1}             Autres    10.1364   \n",
       "14603  {'hal': 0, 'arXiv': 0, 'Autres': 1}             Autres    10.1002   \n",
       "14604  {'hal': 0, 'arXiv': 0, 'Autres': 3}             Autres    10.1039   \n",
       "14605  {'hal': 2, 'arXiv': 0, 'Autres': 5}         Hal,Autres    10.1038   \n",
       "14606  {'hal': 2, 'arXiv': 1, 'Autres': 4}   Hal,arXiv,Autres    10.1051   \n",
       "\n",
       "                        publisher_by_doiprefix bso_classification_classe  \\\n",
       "0                                  Elsevier BV                       0.0   \n",
       "1      Springer Science and Business Media LLC                       7.0   \n",
       "2                                  SLACK, Inc.                       7.0   \n",
       "3                                          BMJ                       7.0   \n",
       "4                                         None                       9.0   \n",
       "...                                        ...                       ...   \n",
       "14602                      The Optical Society                       8.0   \n",
       "14603                                    Wiley                       7.0   \n",
       "14604         Royal Society of Chemistry (RSC)                       7.0   \n",
       "14605  Springer Science and Business Media LLC                       3.0   \n",
       "14606                             EDP Sciences                       8.0   \n",
       "\n",
       "      source                       bso_classification_en  \\\n",
       "0      mesri                             Biology (fond.)   \n",
       "1      mesri                            Medical research   \n",
       "2      local                            Medical research   \n",
       "3      mesri                            Medical research   \n",
       "4      mesri                             Social sciences   \n",
       "...      ...                                         ...   \n",
       "14602  local                Physical sciences, Astronomy   \n",
       "14603  mesri                            Medical research   \n",
       "14604  mesri                            Medical research   \n",
       "14605  mesri  Earth, Ecology, Energy and applied biology   \n",
       "14606  mesri                Physical sciences, Astronomy   \n",
       "\n",
       "                                   bso_classification_fr  \n",
       "0                                  Biologie fondamentale  \n",
       "1                                     Recherche médicale  \n",
       "2                                     Recherche médicale  \n",
       "3                                     Recherche médicale  \n",
       "4                                      Sciences sociales  \n",
       "...                                                  ...  \n",
       "14602                   Sciences physiques et astronomie  \n",
       "14603                                 Recherche médicale  \n",
       "14604                                 Recherche médicale  \n",
       "14605  Sciences de la Terre, écologie, énergie et bio...  \n",
       "14606                   Sciences physiques et astronomie  \n",
       "\n",
       "[14607 rows x 29 columns]"
      ]
     },
     "metadata": {},
     "output_type": "display_data"
    }
   ],
   "source": [
    "dbEngine=sqla.create_engine('sqlite:////home/docker/app/bso_publis_scopus/09_db/publications.db')\n",
    "df = pd.read_sql(f'select * from bso_publis_uniques_20220829',dbEngine)\n",
    "import pandas as pd; import numpy as np\n",
    "# Step: Keep rows where publisher_by_doiprefix is one of: EDP Sciences\n",
    "df = df.loc[df['publisher_by_doiprefix'].isin(['EDP Sciences'])]\n",
    "\n",
    "df"
   ]
  },
  {
   "cell_type": "code",
   "execution_count": null,
   "id": "d15ca7d6",
   "metadata": {},
   "outputs": [],
   "source": []
  }
 ],
 "metadata": {
  "kernelspec": {
   "display_name": "Python 3 (ipykernel)",
   "language": "python",
   "name": "python3"
  },
  "language_info": {
   "codemirror_mode": {
    "name": "ipython",
    "version": 3
   },
   "file_extension": ".py",
   "mimetype": "text/x-python",
   "name": "python",
   "nbconvert_exporter": "python",
   "pygments_lexer": "ipython3",
   "version": "3.8.15"
  }
 },
 "nbformat": 4,
 "nbformat_minor": 5
}
