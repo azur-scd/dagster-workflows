{
 "cells": [
  {
   "cell_type": "code",
   "execution_count": 6,
   "metadata": {},
   "outputs": [],
   "source": [
    "import pandas as pd\n",
    "import numpy as np\n",
    "import requests\n",
    "from bs4 import BeautifulSoup\n",
    "import json\n",
    "import re"
   ]
  },
  {
   "cell_type": "markdown",
   "metadata": {},
   "source": [
    "# Notebook de contôle"
   ]
  },
  {
   "cell_type": "markdown",
   "metadata": {},
   "source": [
    "## Contrôles à appliquer avant le workflow Dagster"
   ]
  },
  {
   "cell_type": "markdown",
   "metadata": {},
   "source": [
    "### Moissonnage des sets OAI-PMH de TEF pour classification Dewey des thèses (et sauvegarde)"
   ]
  },
  {
   "cell_type": "code",
   "execution_count": 7,
   "metadata": {},
   "outputs": [],
   "source": [
    "def  scrapping_oai_sets_dewey():\n",
    "    url = \"https://www.theses.fr/schemas/tef/recommandation/oai_sets.html\"\n",
    "    resp = requests.get(url).text  # ou f = http.request('GET', url).data\n",
    "    soup = BeautifulSoup(resp, features=\"lxml\")\n",
    "    oai_list = []\n",
    "    for row in soup.findAll(\"table\")[0].findAll(\"tr\"):\n",
    "        label = re.sub('<!--.*-->|\\r|\\n', '', str(row.findAll(\"td\")[0].get_text(strip=True)), flags=re.DOTALL)\n",
    "        label = re.sub('\\s{2,}|&nbsp;', ' ', label)\n",
    "        oai_list.append(\n",
    "            {\n",
    "                \"label\": label,\n",
    "                \"code\": row.findAll(\"td\")[1].get_text(strip=True),\n",
    "            }\n",
    "        )\n",
    "    df = pd.DataFrame(oai_list[1:])\n",
    "    df['main_domain'] = df['code'].apply(lambda x: 'Sciences, Technologies, Santé' if ((str(x[4]) == \"5\") | (str(x[4]) == \"6\") | (str(x[4:7]) == \"004\")) else 'Lettres, Sciences Humaines et Sociales')\n",
    "    return df"
   ]
  },
  {
   "cell_type": "code",
   "execution_count": 8,
   "metadata": {},
   "outputs": [
    {
     "data": {
      "text/html": [
       "<div>\n",
       "<style scoped>\n",
       "    .dataframe tbody tr th:only-of-type {\n",
       "        vertical-align: middle;\n",
       "    }\n",
       "\n",
       "    .dataframe tbody tr th {\n",
       "        vertical-align: top;\n",
       "    }\n",
       "\n",
       "    .dataframe thead th {\n",
       "        text-align: right;\n",
       "    }\n",
       "</style>\n",
       "<table border=\"1\" class=\"dataframe\">\n",
       "  <thead>\n",
       "    <tr style=\"text-align: right;\">\n",
       "      <th></th>\n",
       "      <th>label</th>\n",
       "      <th>code</th>\n",
       "      <th>main_domain</th>\n",
       "    </tr>\n",
       "  </thead>\n",
       "  <tbody>\n",
       "    <tr>\n",
       "      <th>0</th>\n",
       "      <td>Informatique, information, généralités</td>\n",
       "      <td>ddc:000</td>\n",
       "      <td>Lettres, Sciences Humaines et Sociales</td>\n",
       "    </tr>\n",
       "    <tr>\n",
       "      <th>1</th>\n",
       "      <td>Informatique</td>\n",
       "      <td>ddc:004</td>\n",
       "      <td>Sciences, Technologies, Santé</td>\n",
       "    </tr>\n",
       "    <tr>\n",
       "      <th>2</th>\n",
       "      <td>Bibliothéconomie et sciences de l'information</td>\n",
       "      <td>ddc:020</td>\n",
       "      <td>Lettres, Sciences Humaines et Sociales</td>\n",
       "    </tr>\n",
       "    <tr>\n",
       "      <th>3</th>\n",
       "      <td>Organisations générales et muséologie</td>\n",
       "      <td>ddc:060</td>\n",
       "      <td>Lettres, Sciences Humaines et Sociales</td>\n",
       "    </tr>\n",
       "    <tr>\n",
       "      <th>4</th>\n",
       "      <td>Médias d'information, journalisme, édition</td>\n",
       "      <td>ddc:070</td>\n",
       "      <td>Lettres, Sciences Humaines et Sociales</td>\n",
       "    </tr>\n",
       "    <tr>\n",
       "      <th>...</th>\n",
       "      <td>...</td>\n",
       "      <td>...</td>\n",
       "      <td>...</td>\n",
       "    </tr>\n",
       "    <tr>\n",
       "      <th>93</th>\n",
       "      <td>Histoire générale de l'Asie, Orient, Extrême-O...</td>\n",
       "      <td>ddc:950</td>\n",
       "      <td>Lettres, Sciences Humaines et Sociales</td>\n",
       "    </tr>\n",
       "    <tr>\n",
       "      <th>94</th>\n",
       "      <td>Histoire générale de l'Afrique</td>\n",
       "      <td>ddc:960</td>\n",
       "      <td>Lettres, Sciences Humaines et Sociales</td>\n",
       "    </tr>\n",
       "    <tr>\n",
       "      <th>95</th>\n",
       "      <td>Histoire générale de l'Amérique du Nord</td>\n",
       "      <td>ddc:970</td>\n",
       "      <td>Lettres, Sciences Humaines et Sociales</td>\n",
       "    </tr>\n",
       "    <tr>\n",
       "      <th>96</th>\n",
       "      <td>Histoire générale de l'Amérique du Sud</td>\n",
       "      <td>ddc:980</td>\n",
       "      <td>Lettres, Sciences Humaines et Sociales</td>\n",
       "    </tr>\n",
       "    <tr>\n",
       "      <th>97</th>\n",
       "      <td>Histoire générale des autres parties du monde,...</td>\n",
       "      <td>ddc:990</td>\n",
       "      <td>Lettres, Sciences Humaines et Sociales</td>\n",
       "    </tr>\n",
       "  </tbody>\n",
       "</table>\n",
       "<p>98 rows × 3 columns</p>\n",
       "</div>"
      ],
      "text/plain": [
       "                                                label     code  \\\n",
       "0              Informatique, information, généralités  ddc:000   \n",
       "1                                        Informatique  ddc:004   \n",
       "2       Bibliothéconomie et sciences de l'information  ddc:020   \n",
       "3               Organisations générales et muséologie  ddc:060   \n",
       "4          Médias d'information, journalisme, édition  ddc:070   \n",
       "..                                                ...      ...   \n",
       "93  Histoire générale de l'Asie, Orient, Extrême-O...  ddc:950   \n",
       "94                     Histoire générale de l'Afrique  ddc:960   \n",
       "95            Histoire générale de l'Amérique du Nord  ddc:970   \n",
       "96             Histoire générale de l'Amérique du Sud  ddc:980   \n",
       "97  Histoire générale des autres parties du monde,...  ddc:990   \n",
       "\n",
       "                               main_domain  \n",
       "0   Lettres, Sciences Humaines et Sociales  \n",
       "1            Sciences, Technologies, Santé  \n",
       "2   Lettres, Sciences Humaines et Sociales  \n",
       "3   Lettres, Sciences Humaines et Sociales  \n",
       "4   Lettres, Sciences Humaines et Sociales  \n",
       "..                                     ...  \n",
       "93  Lettres, Sciences Humaines et Sociales  \n",
       "94  Lettres, Sciences Humaines et Sociales  \n",
       "95  Lettres, Sciences Humaines et Sociales  \n",
       "96  Lettres, Sciences Humaines et Sociales  \n",
       "97  Lettres, Sciences Humaines et Sociales  \n",
       "\n",
       "[98 rows x 3 columns]"
      ]
     },
     "execution_count": 8,
     "metadata": {},
     "output_type": "execute_result"
    }
   ],
   "source": [
    "scrapping_oai_sets_dewey()"
   ]
  },
  {
   "cell_type": "code",
   "execution_count": null,
   "metadata": {},
   "outputs": [],
   "source": [
    "df.to_csv(\"02_intermediate/oai_set_specs_dewey_labels.csv\", index=False, encoding='utf8')"
   ]
  },
  {
   "cell_type": "markdown",
   "metadata": {},
   "source": [
    "## Divers"
   ]
  }
 ],
 "metadata": {
  "kernelspec": {
   "display_name": "Python 3 (ipykernel)",
   "language": "python",
   "name": "python3"
  },
  "language_info": {
   "codemirror_mode": {
    "name": "ipython",
    "version": 3
   },
   "file_extension": ".py",
   "mimetype": "text/x-python",
   "name": "python",
   "nbconvert_exporter": "python",
   "pygments_lexer": "ipython3",
   "version": "3.9.7"
  },
  "vscode": {
   "interpreter": {
    "hash": "2496b697bfde078d94070a0dfd88a550d72d19d1aca48acb566344594aa5dbce"
   }
  }
 },
 "nbformat": 4,
 "nbformat_minor": 4
}
