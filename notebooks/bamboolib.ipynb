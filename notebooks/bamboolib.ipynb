{
 "cells": [
  {
   "cell_type": "code",
   "execution_count": 1,
   "id": "a5d35ea8",
   "metadata": {},
   "outputs": [],
   "source": [
    "import pandas as pd\n",
    "import bamboolib as bam"
   ]
  },
  {
   "cell_type": "code",
   "execution_count": 7,
   "id": "cd78bfa8",
   "metadata": {},
   "outputs": [
    {
     "data": {
      "application/vnd.jupyter.widget-view+json": {
       "model_id": "9463ac4af765489cb392243867eb0426"
      },
      "text/plain": [
       "      @afids  dc:identifiers_size\n",
       "11  60110693                 8955\n",
       "31  60110744                 3794\n",
       "30  60110743                 3139\n",
       "12  60110695                 2657\n",
       "28  60110740                 2384\n",
       "26  60110719                 2201\n",
       "0   60006380                 2025\n",
       "13  60110697                 1963\n",
       "4   60101367                 1826\n",
       "7   60110369                 1657\n",
       "23  60110715                 1525\n",
       "33  60110756                 1501\n",
       "37  60110763                 1466\n",
       "1   60006696                 1231\n",
       "2   60010513                  785\n",
       "21  60110712                  765\n",
       "32  60110755                  722\n",
       "16  60110706                  666\n",
       "8   60110689                  588\n",
       "38  60110764                  421\n",
       "25  60110717                  375\n",
       "29  60110741                  314\n",
       "35  60110761                  296\n",
       "9   60110690                  249\n",
       "5   60107106                  235\n",
       "41  temp_001                  234\n",
       "10  60110692                  202\n",
       "20  60110710                  199\n",
       "36  60110762                  148\n",
       "47  temp_007                  118\n",
       "34  60110760                  115\n",
       "49  temp_009                  104\n",
       "27  60110721                   69\n",
       "15  60110705                   62\n",
       "43  temp_003                   57\n",
       "48  temp_008                   46\n",
       "42  temp_002                   43\n",
       "6   60107140                   35\n",
       "44  temp_004                   25\n",
       "39  60111234                   22\n",
       "46  temp_006                   21\n",
       "17  60110707                   20\n",
       "22  60110714                   14\n",
       "24  60110716                   10\n",
       "3   60033148                    8\n",
       "14  60110704                    6\n",
       "18  60110708                    4\n",
       "19  60110709                    3\n",
       "40  60122129                    2\n",
       "45  temp_005                    2"
      ]
     },
     "metadata": {},
     "output_type": "display_data"
    }
   ],
   "source": [
    "df = pd.read_json(\"../app/bso_publis_scopus/01_raw/2022-08-29/exportDonnees_barometre_complet_2022-08-29.json\")\n",
    "import pandas as pd; import numpy as np\n",
    "# Step: Group by and aggregate\n",
    "df = df.groupby(['@afids']).agg(**{'dc:identifiers_size': ('dc:identifiers', 'size')}).reset_index()\n",
    "\n",
    "# Step: Sort column(s) dc:identifiers_size ascending (A-Z)\n",
    "df = df.sort_values(by=['dc:identifiers_size'], ascending=[False])\n",
    "\n",
    "df"
   ]
  },
  {
   "cell_type": "code",
   "execution_count": 8,
   "id": "15a5914a",
   "metadata": {},
   "outputs": [
    {
     "data": {
      "application/vnd.jupyter.widget-view+json": {
       "model_id": "1030d02076864a61851461ec5a933860"
      },
      "text/plain": [
       "   aff_scopus_id  dc:identifiers_size\n",
       "10      60110693                 4694\n",
       "43      temp_002                 4451\n",
       "30      60110744                 1871\n",
       "25      60110719                 1247\n",
       "6       60110369                 1205\n",
       "11      60110695                 1016\n",
       "27      60110740                 1011\n",
       "3       60101367                  991\n",
       "12      60110697                  768\n",
       "0       60006380                  687\n",
       "22      60110715                  643\n",
       "36      60110763                  611\n",
       "15      60110706                  576\n",
       "32      60110756                  575\n",
       "44      temp_003                  556\n",
       "2       60010513                  446\n",
       "20      60110712                  441\n",
       "1       60006696                  404\n",
       "41      60204138                  365\n",
       "29      60110743                  329\n",
       "31      60110755                  289\n",
       "37      60110764                  238\n",
       "7       60110689                  217\n",
       "4       60107106                  215\n",
       "24      60110717                  175\n",
       "46      temp_007                  156\n",
       "19      60110710                  138\n",
       "34      60110761                  127\n",
       "14      60110705                  105\n",
       "33      60110760                  100\n",
       "8       60110690                   94\n",
       "9       60110692                   82\n",
       "49      temp_014                   54\n",
       "35      60110762                   51\n",
       "26      60110721                   46\n",
       "28      60110741                   42\n",
       "42      60272134                   34\n",
       "48      temp_013                   25\n",
       "5       60107140                   20\n",
       "16      60110707                   20\n",
       "38      60111234                   17\n",
       "21      60110714                   15\n",
       "23      60110716                   11\n",
       "39      60120596                    7\n",
       "45      temp_005                    7\n",
       "13      60110704                    7\n",
       "18      60110709                    6\n",
       "17      60110708                    4\n",
       "47      temp_012                    3\n",
       "40      60122129                    2"
      ]
     },
     "metadata": {},
     "output_type": "display_data"
    }
   ],
   "source": [
    "df1 = pd.read_csv(\"../bso_publis/01_raw/2023-03-20/scopus/harvested_corpus.csv\", sep=\",\", encoding=\"utf-8\")\n",
    "# Step: Group by and aggregate\n",
    "df1 = df1.groupby(['aff_scopus_id']).agg(**{'dc:identifiers_size': ('dc:identifiers', 'size')}).reset_index()\n",
    "\n",
    "# Step: Sort column(s) dc:identifiers_size ascending (A-Z)\n",
    "df1 = df1.sort_values(by=['dc:identifiers_size'], ascending=[False])\n",
    "\n",
    "df1"
   ]
  },
  {
   "cell_type": "code",
   "execution_count": null,
   "id": "e5e60914",
   "metadata": {},
   "outputs": [],
   "source": []
  }
 ],
 "metadata": {
  "kernelspec": {
   "display_name": "Python 3 (ipykernel)",
   "language": "python",
   "name": "python3"
  },
  "language_info": {
   "codemirror_mode": {
    "name": "ipython",
    "version": 3
   },
   "file_extension": ".py",
   "mimetype": "text/x-python",
   "name": "python",
   "nbconvert_exporter": "python",
   "pygments_lexer": "ipython3",
   "version": "3.9.7"
  }
 },
 "nbformat": 4,
 "nbformat_minor": 5
}
